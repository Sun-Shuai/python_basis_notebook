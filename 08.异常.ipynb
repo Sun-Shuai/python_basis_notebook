{
 "cells": [
  {
   "cell_type": "markdown",
   "metadata": {},
   "source": [
    "# 8.1 异常是什么"
   ]
  },
  {
   "cell_type": "markdown",
   "metadata": {},
   "source": [
    "Python使用异常对象来表示异常状态，并在遇到错误时引发异常。异常对象未被处理(或捕 获)时，程序将终止并显示一条错误消息(traceback)。"
   ]
  },
  {
   "cell_type": "markdown",
   "metadata": {},
   "source": [
    "# 8.2 让代码按照指定的轨道出错"
   ]
  },
  {
   "cell_type": "markdown",
   "metadata": {},
   "source": [
    "遇到错误时，系统会自动引发异常；还可以使用raise语句手动引发异常。"
   ]
  },
  {
   "cell_type": "markdown",
   "metadata": {},
   "source": [
    "### 8.2.1 raise语句"
   ]
  },
  {
   "cell_type": "markdown",
   "metadata": {},
   "source": [
    "要引发异常，可使用raise语句，并将一个类(必须是Exception的子类)或实例作为参数。 将类作为参数时，将自动创建一个实例。下面的示例使用的是内置异常类Exception:"
   ]
  },
  {
   "cell_type": "code",
   "execution_count": 1,
   "metadata": {},
   "outputs": [],
   "source": [
    "# raise Exception\n",
    "\n",
    "# Exception  Traceback (most recent call last)\n",
    "# <ipython-input-4-11a6f930140e> in <module>\n",
    "# ----> 1 raise Exception\n",
    "#       2 raise Exception(\"test\")\n",
    "\n",
    "# Exception: \n",
    "\n",
    "# 自定义异常信息\n",
    "# raise Exception(\"test\")\n",
    "\n",
    "# Exception  Traceback (most recent call last)\n",
    "# <ipython-input-5-537a06292f5b> in <module>\n",
    "#       6 \n",
    "#       7 # Exception:\n",
    "# ----> 8 raise Exception(\"test\")\n",
    "\n",
    "# Exception: test"
   ]
  },
  {
   "cell_type": "markdown",
   "metadata": {},
   "source": [
    "一些内置的异常类：\n",
    "\n",
    "Exception 几乎所有的异常类都是从它派生而来的\n",
    "\n",
    "AttributeError 引用属性或给它赋值失败时引发\n",
    "\n",
    "OSError 操作系统不能执行指定的任务(如打开文件)时引发，有多个子类\n",
    "\n",
    "IndexError 使用序列中不存在的索引时引发，为LookupError的子类\n",
    "\n",
    "KeyError 使用映射中不存在的键时引发，为LookupError的子类\n",
    "\n",
    "NameError 找不到名称(变量)时引发\n",
    "\n",
    "SyntaxError 代码不正确时引发\n",
    "\n",
    "TypeError 将内置操作或函数用于类型不正确的对象时引发\n",
    "\n",
    "ValueError 将内置操作或函数用于这样的对象时引发:其类型正确但包含的值不合适\n",
    "\n",
    "ZeroDivisionError 在除法或求模运算的第二个参数为零时引发 "
   ]
  },
  {
   "cell_type": "markdown",
   "metadata": {},
   "source": [
    "### 8.2.2 自定义的异常类"
   ]
  },
  {
   "cell_type": "markdown",
   "metadata": {},
   "source": [
    "内置异常涉及的范围很广，一般能够满足很多需求，但有时你可能想自己创建异常类。创建异常类就像创建其他类一样，但需要直接或间接地继承Exception(这意味着从任何内置异常类派生都可以)。因此，自定义异常类的代码类似于下面这样:"
   ]
  },
  {
   "cell_type": "code",
   "execution_count": 2,
   "metadata": {},
   "outputs": [],
   "source": [
    "class SomeCustomException(Exception): pass"
   ]
  },
  {
   "cell_type": "markdown",
   "metadata": {},
   "source": [
    "# 8.3 捕获异常"
   ]
  },
  {
   "cell_type": "markdown",
   "metadata": {},
   "source": [
    "如果不捕获异常，程序会终止运行。使用try/except语句"
   ]
  },
  {
   "cell_type": "code",
   "execution_count": 3,
   "metadata": {},
   "outputs": [
    {
     "name": "stdout",
     "output_type": "stream",
     "text": [
      "Enter the first number: 1\n",
      "Enter the second number: 2\n",
      "0.5\n"
     ]
    }
   ],
   "source": [
    "# 这个程序运行正常，直到用户输入的第二个数为零。\n",
    "x = int(input('Enter the first number: ')) \n",
    "y = int(input('Enter the second number: ')) \n",
    "print(x / y)"
   ]
  },
  {
   "cell_type": "code",
   "execution_count": 4,
   "metadata": {},
   "outputs": [
    {
     "name": "stdout",
     "output_type": "stream",
     "text": [
      "Enter the first number: 1\n",
      "Enter the second number: 2\n",
      "0.5\n"
     ]
    }
   ],
   "source": [
    "try:\n",
    "    x = int(input('Enter the first number: ')) \n",
    "    y = int(input('Enter the second number: ')) \n",
    "    print(x / y)\n",
    "except ZeroDivisionError:\n",
    "    print(\"The second number can't be zero!\")"
   ]
  },
  {
   "cell_type": "markdown",
   "metadata": {},
   "source": [
    "使用一条if语句来检查y的值好像简单些，就本例而言，这可能也是更佳的解决方案。然而， 如果这个程序执行的除法运算更多，则每个除法运算都需要一条if语句，而使用try/except的话 只需要一个错误处理程序。"
   ]
  },
  {
   "cell_type": "markdown",
   "metadata": {},
   "source": [
    "【注】异常从函数向外传播到调用函数的地方。如果在这里也没有被捕获，异常将向程序的最顶层传播。这意味着你可使用try/except来捕获他人所编写函数引发的异常。"
   ]
  },
  {
   "cell_type": "markdown",
   "metadata": {},
   "source": [
    "### 8.3.1 捕获后不处理，向上传播"
   ]
  },
  {
   "cell_type": "markdown",
   "metadata": {},
   "source": [
    "1.捕获异常后，如果要重新引发它(即继续向上传播)，可调用raise且不提供任何参数"
   ]
  },
  {
   "cell_type": "code",
   "execution_count": 5,
   "metadata": {},
   "outputs": [],
   "source": [
    "class MuffledCalculator: \n",
    "    def calc(self, expr): \n",
    "        try:\n",
    "            return eval(expr) \n",
    "        except ZeroDivisionError: \n",
    "            print('Division by zero is illegal') \n",
    "            raise"
   ]
  },
  {
   "cell_type": "markdown",
   "metadata": {},
   "source": [
    "2.捕获异常后，可能想要引发其它异常，在这种情况下，导致进入except子句的异常将被作为异常【上下文】存储起来， 并出现在最终的错误消息中，如下所示:"
   ]
  },
  {
   "cell_type": "code",
   "execution_count": 6,
   "metadata": {},
   "outputs": [],
   "source": [
    "# try:\n",
    "#     1/0\n",
    "# except ZeroDivisionError:\n",
    "#     raise ValueError\n",
    "    \n",
    "# ZeroDivisionError  Traceback (most recent call last)\n",
    "# <ipython-input-11-0b169011072e> in <module>\n",
    "#       1 try:\n",
    "# ----> 2     1/0\n",
    "#       3 except ZeroDivisionError:\n",
    "\n",
    "# ZeroDivisionError: division by zero\n",
    "\n",
    "# During handling of the above exception, another exception occurred:\n",
    "\n",
    "# ValueError  Traceback (most recent call last)\n",
    "# <ipython-input-11-0b169011072e> in <module>\n",
    "#       2     1/0\n",
    "#       3 except ZeroDivisionError:\n",
    "# ----> 4     raise ValueError\n",
    "\n",
    "# ValueError: "
   ]
  },
  {
   "cell_type": "markdown",
   "metadata": {},
   "source": [
    "你可使用raise ... from ...语句来提供自己的异常上下文，也可使用None来禁用上下文。"
   ]
  },
  {
   "cell_type": "code",
   "execution_count": 7,
   "metadata": {},
   "outputs": [],
   "source": [
    "# try:\n",
    "#     1/0\n",
    "# except ZeroDivisionError:\n",
    "#     raise ValueError from None\n",
    "    \n",
    "# ValueError  Traceback (most recent call last)\n",
    "# <ipython-input-13-7643647cb814> in <module>\n",
    "#       2     1/0\n",
    "#       3 except ZeroDivisionError:\n",
    "# ----> 4     raise ValueError from None\n",
    "#       5 \n",
    "\n",
    "# ValueError: "
   ]
  },
  {
   "cell_type": "markdown",
   "metadata": {},
   "source": [
    "### 8.3.2 多个except语句"
   ]
  },
  {
   "cell_type": "code",
   "execution_count": 8,
   "metadata": {},
   "outputs": [],
   "source": [
    "# try:\n",
    "#     x = int(input('Enter the first number: ')) \n",
    "#     y = int(input('Enter the second number: ')) \n",
    "#     print(x / y)\n",
    "# except ZeroDivisionError:\n",
    "#     print(\"The second number can't be zero!\")\n",
    "# except TypeError:\n",
    "#     print(\"That wasn't a number, was it?\")"
   ]
  },
  {
   "cell_type": "markdown",
   "metadata": {},
   "source": [
    "### 8.3.2 一个except捕获多个异常"
   ]
  },
  {
   "cell_type": "markdown",
   "metadata": {},
   "source": [
    "可在一个元组中指定这些异常"
   ]
  },
  {
   "cell_type": "code",
   "execution_count": 9,
   "metadata": {},
   "outputs": [],
   "source": [
    "# try:\n",
    "#     x = int(input('Enter the first number: ')) \n",
    "#     y = int(input('Enter the second number: ')) \n",
    "#     print(x / y)\n",
    "# except (ZeroDivisionError, TypeError, NameError): \n",
    "#     print('Your numbers were bogus ...')"
   ]
  },
  {
   "cell_type": "markdown",
   "metadata": {},
   "source": [
    "### 8.3.4 访问异常对象本身"
   ]
  },
  {
   "cell_type": "markdown",
   "metadata": {},
   "source": [
    "需要让【程序继续运行】并【记录错误(可能只是向用户显示)】时，这很有用。"
   ]
  },
  {
   "cell_type": "code",
   "execution_count": 10,
   "metadata": {},
   "outputs": [
    {
     "name": "stdout",
     "output_type": "stream",
     "text": [
      "Enter the first number: 1\n",
      "Enter the second number: 2\n",
      "0.5\n"
     ]
    }
   ],
   "source": [
    "try:\n",
    "    x = int(input('Enter the first number: ')) \n",
    "    y = int(input('Enter the second number: ')) \n",
    "    print(x / y)\n",
    "except (ZeroDivisionError, TypeError, NameError) as e: \n",
    "    print(e)"
   ]
  },
  {
   "cell_type": "markdown",
   "metadata": {},
   "source": [
    "### 8.3.5 一键捕获所有异常"
   ]
  },
  {
   "cell_type": "markdown",
   "metadata": {},
   "source": [
    "使用except不指定任何异常类即可"
   ]
  },
  {
   "cell_type": "code",
   "execution_count": 11,
   "metadata": {},
   "outputs": [
    {
     "name": "stdout",
     "output_type": "stream",
     "text": [
      "Enter the first number: 1\n",
      "Enter the second number: 2\n",
      "0.5\n"
     ]
    }
   ],
   "source": [
    "try:\n",
    "    x = int(input('Enter the first number: ')) \n",
    "    y = int(input('Enter the second number: ')) \n",
    "    print(x / y)\n",
    "except:\n",
    "    print('Something wrong happened ...')"
   ]
  },
  {
   "cell_type": "markdown",
   "metadata": {},
   "source": [
    "在大多数情况下，更好的选择是使用except Exception as e并对异常对象进行检查。这样做 将让不是从Exception派生而来的为数不多的异常成为漏网之鱼，其中包括SystemExit和 KeyboardInterrupt，因为它们是从BaseException(Exception的超类)派生而来的。"
   ]
  },
  {
   "cell_type": "markdown",
   "metadata": {},
   "source": [
    "### 8.3.6 else"
   ]
  },
  {
   "cell_type": "markdown",
   "metadata": {},
   "source": [
    "在有些情况下，在没有出现异常时执行一个代码块很有用。下面代码在出现异常时打印第2个print，没有异常时打印第1和3个print。"
   ]
  },
  {
   "cell_type": "code",
   "execution_count": 12,
   "metadata": {},
   "outputs": [
    {
     "name": "stdout",
     "output_type": "stream",
     "text": [
      "A simple task\n",
      "Ah ... It went as planned.\n"
     ]
    }
   ],
   "source": [
    "try:\n",
    "    print('A simple task')\n",
    "except:\n",
    "    print('What? Something went wrong?')\n",
    "else:\n",
    "    print('Ah ... It went as planned.')"
   ]
  },
  {
   "cell_type": "markdown",
   "metadata": {},
   "source": [
    "通过使用else子句，可实现循环。下面的代码，仅当没有引发异常时，才会跳出循环"
   ]
  },
  {
   "cell_type": "code",
   "execution_count": 13,
   "metadata": {},
   "outputs": [
    {
     "name": "stdout",
     "output_type": "stream",
     "text": [
      "Enter the first number: 1\n",
      "Enter the second number: 2\n",
      "x / y is 0.5\n"
     ]
    }
   ],
   "source": [
    "while True: \n",
    "    try:\n",
    "        x = int(input('Enter the first number: ')) \n",
    "        y = int(input('Enter the second number: ')) \n",
    "        value = x / y\n",
    "        print('x / y is', value)\n",
    "    except:\n",
    "        print('Invalid input. Please try again.')\n",
    "    else: \n",
    "        break"
   ]
  },
  {
   "cell_type": "markdown",
   "metadata": {},
   "source": [
    "### 8.3.7 finally"
   ]
  },
  {
   "cell_type": "markdown",
   "metadata": {},
   "source": [
    "finally 用于在发生异常时执行清理工作"
   ]
  },
  {
   "cell_type": "code",
   "execution_count": 14,
   "metadata": {},
   "outputs": [
    {
     "name": "stdout",
     "output_type": "stream",
     "text": [
      "1\n",
      "3\n",
      "4\n"
     ]
    }
   ],
   "source": [
    "try:\n",
    "    print('1')\n",
    "except:\n",
    "    print('2')\n",
    "else:\n",
    "    print('3')\n",
    "finally:\n",
    "    print('4')"
   ]
  },
  {
   "cell_type": "markdown",
   "metadata": {},
   "source": [
    "# 8.4 异常和函数"
   ]
  },
  {
   "cell_type": "markdown",
   "metadata": {},
   "source": [
    "异常和函数有着天然的联系。如果不处理函数中引发的异常，它将向上传播到调用函数的地方。如果在那里也未得到处理，异常将继续传播，直至到达主程序(全局作用域)。如果主程序中也没有异常处理程序，程序将终止并显示栈跟踪消息。"
   ]
  },
  {
   "cell_type": "markdown",
   "metadata": {},
   "source": [
    "# 8.5 警告"
   ]
  },
  {
   "cell_type": "markdown",
   "metadata": {},
   "source": [
    "如果你只想发出警告，指出情况偏离了正轨，可使用模块warnings中的函数warn。"
   ]
  },
  {
   "cell_type": "code",
   "execution_count": 15,
   "metadata": {},
   "outputs": [
    {
     "name": "stderr",
     "output_type": "stream",
     "text": [
      "/Users/sunshuai/Desktop/python_basis/venv/lib/python3.7/site-packages/ipykernel_launcher.py:2: UserWarning: I've got a bad feeling about this.\n",
      "  \n"
     ]
    }
   ],
   "source": [
    "from warnings import warn\n",
    "warn(\"I've got a bad feeling about this.\")"
   ]
  },
  {
   "cell_type": "markdown",
   "metadata": {},
   "source": [
    "警告只显示一次。如果再次运行最后一行代码，什么事情都不会发生。\n",
    "\n",
    "如果其他代码在使用你的模块，可使用模块warnings中的函数filterwarnings来抑制你发出 的警告(或特定类型的警告)，并指定要采取的措施，如\"error\"或\"ignore\"。"
   ]
  },
  {
   "cell_type": "code",
   "execution_count": 16,
   "metadata": {},
   "outputs": [
    {
     "ename": "UserWarning",
     "evalue": "Something is very wrong!",
     "output_type": "error",
     "traceback": [
      "\u001b[0;31m---------------------------------------------------------------------------\u001b[0m",
      "\u001b[0;31mUserWarning\u001b[0m                               Traceback (most recent call last)",
      "\u001b[0;32m<ipython-input-16-3197943bdfcf>\u001b[0m in \u001b[0;36m<module>\u001b[0;34m\u001b[0m\n\u001b[1;32m      3\u001b[0m \u001b[0mwarn\u001b[0m\u001b[0;34m(\u001b[0m\u001b[0;34m\"Anyone out there?\"\u001b[0m\u001b[0;34m)\u001b[0m\u001b[0;34m\u001b[0m\u001b[0;34m\u001b[0m\u001b[0m\n\u001b[1;32m      4\u001b[0m \u001b[0mfilterwarnings\u001b[0m\u001b[0;34m(\u001b[0m\u001b[0;34m\"error\"\u001b[0m\u001b[0;34m)\u001b[0m\u001b[0;34m\u001b[0m\u001b[0;34m\u001b[0m\u001b[0m\n\u001b[0;32m----> 5\u001b[0;31m \u001b[0mwarn\u001b[0m\u001b[0;34m(\u001b[0m\u001b[0;34m\"Something is very wrong!\"\u001b[0m\u001b[0;34m)\u001b[0m\u001b[0;34m\u001b[0m\u001b[0;34m\u001b[0m\u001b[0m\n\u001b[0m",
      "\u001b[0;31mUserWarning\u001b[0m: Something is very wrong!"
     ]
    }
   ],
   "source": [
    "from warnings import filterwarnings \n",
    "filterwarnings(\"ignore\")\n",
    "warn(\"Anyone out there?\")\n",
    "filterwarnings(\"error\")\n",
    "warn(\"Something is very wrong!\")"
   ]
  },
  {
   "cell_type": "code",
   "execution_count": null,
   "metadata": {},
   "outputs": [],
   "source": []
  }
 ],
 "metadata": {
  "kernelspec": {
   "display_name": "Python 3",
   "language": "python",
   "name": "python3"
  },
  "language_info": {
   "codemirror_mode": {
    "name": "ipython",
    "version": 3
   },
   "file_extension": ".py",
   "mimetype": "text/x-python",
   "name": "python",
   "nbconvert_exporter": "python",
   "pygments_lexer": "ipython3",
   "version": "3.7.6"
  }
 },
 "nbformat": 4,
 "nbformat_minor": 4
}
