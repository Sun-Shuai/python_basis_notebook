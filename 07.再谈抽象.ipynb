{
 "cells": [
  {
   "cell_type": "markdown",
   "metadata": {},
   "source": [
    "# 7.1 对象"
   ]
  },
  {
   "cell_type": "markdown",
   "metadata": {},
   "source": [
    "多态\n",
    "\n",
    "封装\n",
    "\n",
    "继承"
   ]
  },
  {
   "cell_type": "markdown",
   "metadata": {},
   "source": [
    "### 7.1.1 多态"
   ]
  },
  {
   "cell_type": "markdown",
   "metadata": {},
   "source": [
    "多态指的是能够同样地对待不同类型和类的对象，即无需知道对象属于哪个类就可调用其方法。"
   ]
  },
  {
   "cell_type": "markdown",
   "metadata": {},
   "source": [
    "### 7.1.2 封装"
   ]
  },
  {
   "cell_type": "markdown",
   "metadata": {},
   "source": [
    "对象可能隐藏(封装)其内部状态。在有些语言中，这意味着对象的状态(属性) 只能通过其方法来访问。在Python中，所有的属性都是公有的，但直接访问对象的状态时程序员应谨慎行事，因为这可能在不经意间导致状态不一致。"
   ]
  },
  {
   "cell_type": "markdown",
   "metadata": {},
   "source": [
    "### 7.1.3 继承"
   ]
  },
  {
   "cell_type": "markdown",
   "metadata": {},
   "source": [
    "一个类可以是一个或多个类的子类，在这种情况下，子类将继承超类的所有方法。 你可指定多个超类，通过这样做可组合正交(独立且不相关)的功能。为此，一种常见的做法是使用一个核心超类以及一个或多个混合超类。"
   ]
  },
  {
   "cell_type": "markdown",
   "metadata": {},
   "source": [
    "# 7.2 类"
   ]
  },
  {
   "cell_type": "markdown",
   "metadata": {},
   "source": [
    "### 7.2.1 类是什么"
   ]
  },
  {
   "cell_type": "markdown",
   "metadata": {},
   "source": [
    "每个对象都属于特定的类，并被称为该类的【实例】"
   ]
  },
  {
   "cell_type": "markdown",
   "metadata": {},
   "source": [
    "例如，如果你在窗外看到一只鸟，这只鸟就是“鸟类”的一个实例。鸟类是一个非常通用(抽 象)的类，它有多个子类:你看到的那只鸟可能属于子类“云雀”。你可将“鸟类”视为由所有 鸟组成的集合，而“云雀”是其一个子集。一个类的对象为另一个类的对象的子集时，前者就是后者的子类。因此“云雀”为“鸟类”的子类，而“鸟类”为“云雀”的超类。"
   ]
  },
  {
   "cell_type": "markdown",
   "metadata": {},
   "source": [
    "### 7.2.2 创建自定义类"
   ]
  },
  {
   "cell_type": "code",
   "execution_count": 8,
   "metadata": {},
   "outputs": [
    {
     "name": "stdout",
     "output_type": "stream",
     "text": [
      "Hello, world! I'm Luke Skywalker.\n",
      "Hello, world! I'm Anakin Skywalker.\n",
      "Luke Skywalker\n",
      "Hello, world! I'm Yoda.\n"
     ]
    }
   ],
   "source": [
    "class Person:\n",
    "    def set_name(self, name): \n",
    "        self.name = name\n",
    "        \n",
    "    def get_name(self): \n",
    "        return self.name\n",
    "    \n",
    "    def greet(self):\n",
    "        print(\"Hello, world! I'm {}.\".format(self.name))\n",
    "\n",
    "# self 指向对象本身\n",
    "        \n",
    "foo = Person()\n",
    "bar = Person()\n",
    "foo.set_name('Luke Skywalker')\n",
    "bar.set_name('Anakin Skywalker')\n",
    "foo.greet()\n",
    "bar.greet()\n",
    "\n",
    "# 也可以从外部访问这些属性\n",
    "print(foo.name)\n",
    "bar.name = \"Yoda\"\n",
    "bar.greet()"
   ]
  },
  {
   "cell_type": "markdown",
   "metadata": {},
   "source": [
    "### 7.2.3 属性、函数和方法"
   ]
  },
  {
   "cell_type": "markdown",
   "metadata": {},
   "source": [
    "实际上，方法和函数的区别表现在前一节提到的参数self上。方法(更准确地说是关联的方 法)将其第一个参数关联到它所属的实例，因此无需提供这个参数。无疑可以将属性关联到一个普通函数，但这样就没有特殊的self参数了。"
   ]
  },
  {
   "cell_type": "code",
   "execution_count": 9,
   "metadata": {},
   "outputs": [
    {
     "name": "stdout",
     "output_type": "stream",
     "text": [
      "I have a self!\n",
      "I don't...\n"
     ]
    }
   ],
   "source": [
    "class Class:\n",
    "    def method(self):\n",
    "        print('I have a self!')\n",
    "\n",
    "def function(): \n",
    "    print(\"I don't...\")\n",
    "instance = Class()\n",
    "instance.method()\n",
    "instance.method = function\n",
    "instance.method()"
   ]
  },
  {
   "cell_type": "markdown",
   "metadata": {},
   "source": [
    "【注】有没有参数self并不取决于是否以刚才使用的方式(如instance.method)调用方法。"
   ]
  },
  {
   "cell_type": "markdown",
   "metadata": {},
   "source": [
    "### 7.2.4 再谈隐藏"
   ]
  },
  {
   "cell_type": "code",
   "execution_count": 11,
   "metadata": {},
   "outputs": [],
   "source": [
    "# >>> c.name\n",
    "# 'Sir Lancelot'\n",
    "# >>> c.name = 'Sir Gumby' \n",
    "# >>> c.get_name()\n",
    "# 'Sir Gumby'"
   ]
  },
  {
   "cell_type": "markdown",
   "metadata": {},
   "source": [
    "默认情况下，可从外部访问对象的属性。再来看一下前面讨论封装时使用的示例。有些程序员认为这没问题，但有些程序员(如Smalltalk1之父)认为这违反了封装原则。他们认为应该对外部完全隐藏对象的状态(即不能从外部访问它们)。你可能会问，为何他们的立 场如此极端?由每个对象管理自己的属性还不够吗?为何要向外部隐藏属性?毕竟，如果能直接访问ClosedObject(对象c所属的类)的属性name，就不需要创建方法setName和getName了。关键是其他程序员可能不知道(也不应知道)对象内部发生的情况。例如，ClosedObject可能在对象修改其名称时向管理员发送电子邮件。这种功能可能包含在方法set_name中。但如果直接设置c.name，结果将如何呢?什么都不会发生——根本不会发送电子邮件。为避免这类问题，可将属性定义为私有。私有属性不能从对象外部访问，而只能通过存取器方法(如get_name和 set_name)来访问。【注】特性(property)是一种功能强大的存取器替代品。"
   ]
  },
  {
   "cell_type": "markdown",
   "metadata": {},
   "source": [
    "在类定义中，对所有以两个下划线打头的名称都进行转换，即在开头加上一个下划线和类名。\n",
    "\n",
    "如果你不希望名称被修改，又想发出不要从外部修改属性或方法的信号，可用一个下划线打头。这虽然只是一种约定，但也有些作用。例如，from module import *不会导入以一个下划线打头的名称。"
   ]
  },
  {
   "cell_type": "markdown",
   "metadata": {},
   "source": [
    "对于成员变量(属性)，有些语言支持多种私有程度。例如，Java支持4种不同的私有程度。Python没有提供这样的支持，不过从某种程度上说，以一个和两个下划线打头相当于两种不同的私有程度。"
   ]
  },
  {
   "cell_type": "markdown",
   "metadata": {},
   "source": [
    "### 7.2.5 类的命名空间"
   ]
  },
  {
   "cell_type": "markdown",
   "metadata": {},
   "source": [
    "下面两条语句大致等价，它们都创建一个返回参数平方的函数，并将这个函数关联到变量foo。可以在全局(模块) 作用域内定义名称foo，也可以在函数或方法内定义。定义类时情况亦如此:在class语句中定义的代码都是在一个特殊的命名空间(类的命名空间)内执行的，而类的所有成员都可访问这个命名空间。"
   ]
  },
  {
   "cell_type": "code",
   "execution_count": 13,
   "metadata": {},
   "outputs": [],
   "source": [
    "def foo(x): return x * x\n",
    "\n",
    "foo = lambda x: x * x"
   ]
  },
  {
   "cell_type": "markdown",
   "metadata": {},
   "source": [
    "### 7.2.6 指定超类"
   ]
  },
  {
   "cell_type": "markdown",
   "metadata": {},
   "source": [
    "要指定超类，可在class语句中的类名后加上超类名，并将其用圆括号括起。"
   ]
  },
  {
   "cell_type": "code",
   "execution_count": 14,
   "metadata": {},
   "outputs": [],
   "source": [
    "class Filter:\n",
    "    def init(self):\n",
    "        self.blocked = []\n",
    "    def filter(self, sequence):\n",
    "        return [x for x in sequence if x not in self.blocked]\n",
    "    \n",
    "class SPAMFilter(Filter): # SPAMFilter是Filter的子类 \n",
    "    def init(self): # 重写超类Filter的方法init\n",
    "        self.blocked = ['SPAM']"
   ]
  },
  {
   "cell_type": "markdown",
   "metadata": {},
   "source": [
    "### 7.2.7 深入探讨继承"
   ]
  },
  {
   "cell_type": "markdown",
   "metadata": {},
   "source": [
    "要确定一个类是否是另一个类的子类，可使用内置方法issubclass。"
   ]
  },
  {
   "cell_type": "code",
   "execution_count": 16,
   "metadata": {},
   "outputs": [
    {
     "name": "stdout",
     "output_type": "stream",
     "text": [
      "True\n",
      "False\n"
     ]
    }
   ],
   "source": [
    "print(issubclass(SPAMFilter, Filter))\n",
    "print(issubclass(Filter, SPAMFilter))"
   ]
  },
  {
   "cell_type": "markdown",
   "metadata": {},
   "source": [
    "如果你有一个类，并想知道它的基类，可访问其特殊属性__bases__。"
   ]
  },
  {
   "cell_type": "code",
   "execution_count": 19,
   "metadata": {},
   "outputs": [
    {
     "name": "stdout",
     "output_type": "stream",
     "text": [
      "(<class '__main__.Filter'>,)\n",
      "(<class 'object'>,)\n"
     ]
    }
   ],
   "source": [
    "print(SPAMFilter.__bases__)\n",
    "print(Filter.__bases__)"
   ]
  },
  {
   "cell_type": "markdown",
   "metadata": {},
   "source": [
    "同样，要确定对象是否是特定类的实例，可使用isinstance。"
   ]
  },
  {
   "cell_type": "code",
   "execution_count": 21,
   "metadata": {},
   "outputs": [
    {
     "name": "stdout",
     "output_type": "stream",
     "text": [
      "True\n",
      "True\n",
      "False\n"
     ]
    }
   ],
   "source": [
    "s = SPAMFilter()\n",
    "print(isinstance(s, SPAMFilter))\n",
    "print(isinstance(s,Filter))\n",
    "print(isinstance(s,str))"
   ]
  },
  {
   "cell_type": "markdown",
   "metadata": {},
   "source": [
    "s是SPAMFilter类的(直接)实例，但它也是Filter类的间接实例，因为SPAMFilter 是Filter的子类。换而言之，所有SPAMFilter对象都是Filter对象。从前一个示例可知，isinstance 也可用于类型，如字符串类型(str)。"
   ]
  },
  {
   "cell_type": "markdown",
   "metadata": {},
   "source": [
    "如果你要获悉对象属于哪个类，可使用属性__class__，新式类还可以使用type()。"
   ]
  },
  {
   "cell_type": "code",
   "execution_count": 23,
   "metadata": {},
   "outputs": [
    {
     "name": "stdout",
     "output_type": "stream",
     "text": [
      "<class '__main__.SPAMFilter'>\n",
      "<class '__main__.SPAMFilter'>\n"
     ]
    }
   ],
   "source": [
    "print(s.__class__)\n",
    "print(type(s))"
   ]
  },
  {
   "cell_type": "markdown",
   "metadata": {},
   "source": [
    "### 7.2.8 多个超类"
   ]
  },
  {
   "cell_type": "markdown",
   "metadata": {},
   "source": [
    "如何继承多个类"
   ]
  },
  {
   "cell_type": "code",
   "execution_count": 24,
   "metadata": {},
   "outputs": [],
   "source": [
    "class Calculator:\n",
    "    def calculate(self, expression):\n",
    "        self.value = eval(expression)\n",
    "\n",
    "class Talker:\n",
    "    def talk(self):\n",
    "        print('Hi, my value is', self.value)\n",
    "        \n",
    "class TalkingCalculator(Calculator, Talker): \n",
    "    pass"
   ]
  },
  {
   "cell_type": "markdown",
   "metadata": {},
   "source": [
    "这被称为【多重继承】，是一个功能强大的工具。然而，除非万不得已，否则应避免使用多重继承，因为在有些情况下，它可能带来意外的“并发症”。如果多个超类以不同的方式实现了同一个方法(即有多个同名方法)，必须在class语句中小心排列这些超类，因为位于前面的类的方法将覆盖位于后面 的类的方法。"
   ]
  },
  {
   "cell_type": "markdown",
   "metadata": {},
   "source": [
    "### 7.2.9 接口和内省"
   ]
  },
  {
   "cell_type": "markdown",
   "metadata": {},
   "source": [
    "在Python中，不显式地指定对象必须包含哪些方法才能用作参数。例如，你不会像在Java中那样显式编写接口，而是假定对象能够完成你要求它完成的任务。如果不能完成，程 序将失败。"
   ]
  },
  {
   "cell_type": "code",
   "execution_count": null,
   "metadata": {},
   "outputs": [],
   "source": [
    "# >>> hasattr(tc, 'talk') \n",
    "# True\n",
    "# >>> hasattr(tc, 'fnord') \n",
    "# False"
   ]
  },
  {
   "cell_type": "markdown",
   "metadata": {},
   "source": [
    "你发现tc(本章前面介绍的TalkingCalculator类的实例)包含属性talk(指向一个方法)，但没有属性fnord。如果你愿意，还可以检查属性talk是否是可调用的。"
   ]
  },
  {
   "cell_type": "code",
   "execution_count": 25,
   "metadata": {},
   "outputs": [],
   "source": [
    "# >>> callable(getattr(tc, 'talk', None)) \n",
    "# True\n",
    "# >>> callable(getattr(tc, 'fnord', None)) \n",
    "# False"
   ]
  },
  {
   "cell_type": "markdown",
   "metadata": {},
   "source": [
    "getattr访问对象属性，并且可以设置属性不存在时的默认值。\n",
    "setattr与getattr功能相反，可用于设置对象的属性。"
   ]
  },
  {
   "cell_type": "markdown",
   "metadata": {},
   "source": [
    "要查看对象中存储的所有值，可检查其__dict__属性。"
   ]
  },
  {
   "cell_type": "markdown",
   "metadata": {},
   "source": [
    "### 7.2.10 抽象基类"
   ]
  },
  {
   "cell_type": "markdown",
   "metadata": {},
   "source": [
    "然而，有比手工检查各个方法更好的选择。在历史上的大部分时间内，Python几乎都只依赖 于鸭子类型，即假设所有对象都能完成其工作，同时偶尔使用hasattr来检查所需的方法是否存在。很多其他语言(如Java和Go)都采用显式指定接口的理念，而有些第三方模块提供了这种理 念的各种实现。最终，Python通过引入模块abc提供了官方解决方案。这个模块为所谓的抽象基类提供了支持。一般而言，抽象类是不能(至少是不应该)实例化的类，其职责是定义子类应实现的一组抽象方法。下面是一个简单的示例:"
   ]
  },
  {
   "cell_type": "code",
   "execution_count": 27,
   "metadata": {},
   "outputs": [],
   "source": [
    "from abc import ABC, abstractmethod\n",
    "class Talker(ABC): \n",
    "    @abstractmethod \n",
    "    def talk(self):\n",
    "        pass"
   ]
  },
  {
   "cell_type": "markdown",
   "metadata": {},
   "source": [
    "抽象类(即包含抽象方法的类)最重要的特征是不能实例化。假设像下面这样从它派生出一个子类:"
   ]
  },
  {
   "cell_type": "code",
   "execution_count": 28,
   "metadata": {},
   "outputs": [],
   "source": [
    "class Knigget(Talker): \n",
    "    pass"
   ]
  },
  {
   "cell_type": "markdown",
   "metadata": {},
   "source": [
    "由于没有重写方法talk，因此这个类也是抽象的，不能实例化。如果你试图这样做，将出现 类似于前面的错误消息。然而，你可重新编写这个类，使其实现要求的方法。"
   ]
  },
  {
   "cell_type": "code",
   "execution_count": 29,
   "metadata": {},
   "outputs": [],
   "source": [
    "class Knigget(Talker): \n",
    "    def talk(self):\n",
    "        print(\"Ni!\")"
   ]
  },
  {
   "cell_type": "code",
   "execution_count": 30,
   "metadata": {},
   "outputs": [
    {
     "name": "stdout",
     "output_type": "stream",
     "text": [
      "Ni!\n"
     ]
    }
   ],
   "source": [
    "k = Knigget()\n",
    "k.talk()"
   ]
  },
  {
   "cell_type": "markdown",
   "metadata": {},
   "source": [
    "# 7.3 面向对象设计"
   ]
  },
  {
   "cell_type": "markdown",
   "metadata": {},
   "source": [
    "确定需要哪些类以及这些类应包含哪些方法时，尝试像下面这样做。\n",
    "\n",
    "(1) 将有关问题的描述(程序需要做什么)记录下来，并给所有的名词、动词和形容词加\n",
    "上标记。\n",
    "\n",
    "(2) 在名词中找出可能的类。\n",
    "\n",
    "(3) 在动词中找出可能的方法。\n",
    "\n",
    "(4) 在形容词中找出可能的属性。\n",
    "\n",
    "(5) 将找出的方法和属性分配给各个类。"
   ]
  },
  {
   "cell_type": "code",
   "execution_count": null,
   "metadata": {},
   "outputs": [],
   "source": []
  }
 ],
 "metadata": {
  "kernelspec": {
   "display_name": "Python 3",
   "language": "python",
   "name": "python3"
  },
  "language_info": {
   "codemirror_mode": {
    "name": "ipython",
    "version": 3
   },
   "file_extension": ".py",
   "mimetype": "text/x-python",
   "name": "python",
   "nbconvert_exporter": "python",
   "pygments_lexer": "ipython3",
   "version": "3.7.6"
  }
 },
 "nbformat": 4,
 "nbformat_minor": 4
}
