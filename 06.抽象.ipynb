{
 "cells": [
  {
   "cell_type": "markdown",
   "metadata": {},
   "source": [
    "# 6.1 抽象的结构"
   ]
  },
  {
   "cell_type": "markdown",
   "metadata": {},
   "source": [
    "程序应该是抽象的，例如下载网页、计算单词出现频率等操作都可以独立封装成函数，在业务代码中直接调用即可。"
   ]
  },
  {
   "cell_type": "code",
   "execution_count": 1,
   "metadata": {},
   "outputs": [],
   "source": [
    "# page = download_page()\n",
    "# freqs = compute_frequencies(page) \n",
    "# for word, freq in freqs:\n",
    "#     print(word, freq)"
   ]
  },
  {
   "cell_type": "markdown",
   "metadata": {},
   "source": [
    "使用内置函数callable判断某个对象是否可调用（即是否是函数）"
   ]
  },
  {
   "cell_type": "code",
   "execution_count": 2,
   "metadata": {},
   "outputs": [
    {
     "name": "stdout",
     "output_type": "stream",
     "text": [
      "False\n",
      "True\n"
     ]
    }
   ],
   "source": [
    "import math\n",
    "x = 1\n",
    "y = math.sqrt\n",
    "print(callable(x))\n",
    "print(callable(y))"
   ]
  },
  {
   "cell_type": "markdown",
   "metadata": {},
   "source": [
    "# 6.2 自定义函数"
   ]
  },
  {
   "cell_type": "code",
   "execution_count": 3,
   "metadata": {},
   "outputs": [
    {
     "name": "stdout",
     "output_type": "stream",
     "text": [
      "[0, 1, 1, 2, 3, 5, 8, 13, 21, 34]\n",
      "[0, 1, 1, 2, 3]\n"
     ]
    }
   ],
   "source": [
    "# 返回斐波那契数组成的列表\n",
    "def fibs(num): \n",
    "    result = [0, 1]\n",
    "    for i in range(num-2): \n",
    "        result.append(result[-2] + result[-1])\n",
    "    return result\n",
    "print(fibs(10))\n",
    "print(fibs(5))"
   ]
  },
  {
   "cell_type": "markdown",
   "metadata": {},
   "source": [
    "只有一行函数体的函数可以与def写在同一行"
   ]
  },
  {
   "cell_type": "code",
   "execution_count": 4,
   "metadata": {},
   "outputs": [
    {
     "name": "stdout",
     "output_type": "stream",
     "text": [
      "testttt\n"
     ]
    }
   ],
   "source": [
    "def test():print('testttt')\n",
    "\n",
    "test()"
   ]
  },
  {
   "cell_type": "markdown",
   "metadata": {},
   "source": [
    "可以以元组的方式返回多个值"
   ]
  },
  {
   "cell_type": "code",
   "execution_count": 5,
   "metadata": {},
   "outputs": [
    {
     "name": "stdout",
     "output_type": "stream",
     "text": [
      "3\n",
      "7\n"
     ]
    }
   ],
   "source": [
    "def a(n):\n",
    "    return 3,n-3\n",
    "a,b = a(10)\n",
    "print(a)\n",
    "print(b)"
   ]
  },
  {
   "cell_type": "markdown",
   "metadata": {},
   "source": [
    "没有返回值的函数，可以不写return"
   ]
  },
  {
   "cell_type": "code",
   "execution_count": 6,
   "metadata": {},
   "outputs": [
    {
     "name": "stdout",
     "output_type": "stream",
     "text": [
      "test\n"
     ]
    }
   ],
   "source": [
    "def test():\n",
    "    print('test')\n",
    "test()"
   ]
  },
  {
   "cell_type": "code",
   "execution_count": 7,
   "metadata": {},
   "outputs": [
    {
     "name": "stdout",
     "output_type": "stream",
     "text": [
      "test\n"
     ]
    }
   ],
   "source": [
    "def test():\n",
    "    print('test')\n",
    "    return # 写上return只是为了结束函数\n",
    "    print('test2')\n",
    "test()"
   ]
  },
  {
   "cell_type": "markdown",
   "metadata": {},
   "source": [
    "没有返回值的函数返回的是None"
   ]
  },
  {
   "cell_type": "code",
   "execution_count": 8,
   "metadata": {},
   "outputs": [
    {
     "name": "stdout",
     "output_type": "stream",
     "text": [
      "test\n",
      "None\n"
     ]
    }
   ],
   "source": [
    "print(test())"
   ]
  },
  {
   "cell_type": "markdown",
   "metadata": {},
   "source": [
    "# 6.3 给函数编写文档"
   ]
  },
  {
   "cell_type": "markdown",
   "metadata": {},
   "source": [
    "在def语句的后面一行添加独立的字符串，放在函数开头的字符串称为 文档字符串(docstring)，将作为函数的一部分存储起来。"
   ]
  },
  {
   "cell_type": "code",
   "execution_count": 9,
   "metadata": {},
   "outputs": [
    {
     "name": "stdout",
     "output_type": "stream",
     "text": [
      "9\n",
      "Calculates the square of the number x.\n",
      "Help on function square in module __main__:\n",
      "\n",
      "square(x)\n",
      "    Calculates the square of the number x.\n",
      "\n",
      "None\n"
     ]
    }
   ],
   "source": [
    "def square(x):\n",
    "    'Calculates the square of the number x.' \n",
    "    return x * x\n",
    "print(square(3))\n",
    "print(square.__doc__)\n",
    "print(help(square))"
   ]
  },
  {
   "cell_type": "markdown",
   "metadata": {},
   "source": [
    "# 6.4 参数"
   ]
  },
  {
   "cell_type": "markdown",
   "metadata": {},
   "source": [
    "### 6.4.1 值从哪里来"
   ]
  },
  {
   "cell_type": "markdown",
   "metadata": {},
   "source": [
    "在def语句中，位于函数名后面的变量通常称为【形参】，调用函数时提供的值称为【实参】"
   ]
  },
  {
   "cell_type": "markdown",
   "metadata": {},
   "source": [
    "### 6.4.2 修改参数"
   ]
  },
  {
   "cell_type": "markdown",
   "metadata": {},
   "source": [
    "参数存储在局部作用域内\n",
    "\n",
    "1.在函数内部修改【字符串、数、元组等不可变的数据类型】不会影响外部的变量值"
   ]
  },
  {
   "cell_type": "code",
   "execution_count": 10,
   "metadata": {},
   "outputs": [
    {
     "name": "stdout",
     "output_type": "stream",
     "text": [
      "3\n"
     ]
    }
   ],
   "source": [
    "def try_to_change(n):\n",
    "    n = 5\n",
    "n = 3\n",
    "try_to_change(3)\n",
    "print(n)"
   ]
  },
  {
   "cell_type": "markdown",
   "metadata": {},
   "source": [
    "相当于下面代码"
   ]
  },
  {
   "cell_type": "code",
   "execution_count": 11,
   "metadata": {},
   "outputs": [
    {
     "name": "stdout",
     "output_type": "stream",
     "text": [
      "3\n"
     ]
    }
   ],
   "source": [
    "n = 3\n",
    "name = n\n",
    "name = 5\n",
    "print(n)"
   ]
  },
  {
   "cell_type": "markdown",
   "metadata": {},
   "source": [
    "2.在函数内部修改【列表、字典等可变的数据类型】会影响外部的变量值"
   ]
  },
  {
   "cell_type": "code",
   "execution_count": 12,
   "metadata": {},
   "outputs": [
    {
     "name": "stdout",
     "output_type": "stream",
     "text": [
      "['Mr. Gumby', 'Mrs. Thing']\n"
     ]
    }
   ],
   "source": [
    "def try_to_change(n):\n",
    "    n[0]='Mr. Gumby'\n",
    "names=['Mrs. Entity', 'Mrs. Thing']\n",
    "try_to_change(names)\n",
    "print(names)"
   ]
  },
  {
   "cell_type": "markdown",
   "metadata": {},
   "source": [
    "相当于下面代码"
   ]
  },
  {
   "cell_type": "code",
   "execution_count": 13,
   "metadata": {},
   "outputs": [
    {
     "name": "stdout",
     "output_type": "stream",
     "text": [
      "['Mr. Gumby', 'Mrs. Thing']\n"
     ]
    }
   ],
   "source": [
    "names=['Mrs. Entity', 'Mrs. Thing']\n",
    "names2 = names\n",
    "names2[0] = 'Mr. Gumby'\n",
    "print(names)"
   ]
  },
  {
   "cell_type": "markdown",
   "metadata": {},
   "source": [
    "因为将同一个列表赋给两个变量时，这两个变量将同时指向这个列表。要避免这样的结果，必须创建列表的副本。即使用[:]"
   ]
  },
  {
   "cell_type": "code",
   "execution_count": 14,
   "metadata": {},
   "outputs": [
    {
     "name": "stdout",
     "output_type": "stream",
     "text": [
      "['Mrs. Entity', 'Mrs. Thing']\n"
     ]
    }
   ],
   "source": [
    "def try_to_change(n):\n",
    "    n[0]='Mr. Gumby'\n",
    "names=['Mrs. Entity', 'Mrs. Thing']\n",
    "try_to_change(names[:])\n",
    "print(names)"
   ]
  },
  {
   "cell_type": "markdown",
   "metadata": {},
   "source": [
    "【注】使用场景：初始化可变类型的数据，需要原地修改。不可变类型的数据，只能使用return的方式或者转成可变类型如将值放在列表中。"
   ]
  },
  {
   "cell_type": "markdown",
   "metadata": {},
   "source": [
    "### 6.4.3 关键字参数和默认值"
   ]
  },
  {
   "cell_type": "markdown",
   "metadata": {},
   "source": [
    "前面使用的参数都是【位置参数】，因为要按照位置顺序填入实参。有时候，参数的排列顺序可能难以记住，尤其是参数很多时。为了简化调用工作，可指定参 数的名称。"
   ]
  },
  {
   "cell_type": "code",
   "execution_count": 15,
   "metadata": {},
   "outputs": [
    {
     "name": "stdout",
     "output_type": "stream",
     "text": [
      "Hello, world!\n",
      "Hello, world!\n"
     ]
    }
   ],
   "source": [
    "def hello(greeting, name):\n",
    "    print('{}, {}!'.format(greeting, name))\n",
    "hello(greeting='Hello', name='world')\n",
    "hello(name='world', greeting='Hello')"
   ]
  },
  {
   "cell_type": "markdown",
   "metadata": {},
   "source": [
    "像上面这样使用名称指定的参数称为【关键字参数】，主要优点是有助于澄清各个参数的作用。"
   ]
  },
  {
   "cell_type": "markdown",
   "metadata": {},
   "source": [
    "关键字参数最大的优点在于，可以指定默认值。"
   ]
  },
  {
   "cell_type": "code",
   "execution_count": 16,
   "metadata": {},
   "outputs": [
    {
     "name": "stdout",
     "output_type": "stream",
     "text": [
      "Hi, world!\n",
      "hi, world!\n"
     ]
    }
   ],
   "source": [
    "def hello(greeting='Hello', name='world'): \n",
    "    print('{}, {}!'.format(greeting, name))\n",
    "# 调用的时候可以不指定或指定部分值，当然也可以全部提供。\n",
    "hello(greeting='Hi')\n",
    "hello('hi')"
   ]
  },
  {
   "cell_type": "markdown",
   "metadata": {},
   "source": [
    "【注】可结合使用位置参数和关键字参数，但必须先指定所有的位置参数，否则解释器将不知道它们是哪个参数(即不知道参数对应的位置)。"
   ]
  },
  {
   "cell_type": "code",
   "execution_count": 17,
   "metadata": {},
   "outputs": [
    {
     "name": "stdout",
     "output_type": "stream",
     "text": [
      "hi, world!\n"
     ]
    }
   ],
   "source": [
    "# hello(greeting='hi','world') # 报错，应该把位置参数放前面\n",
    "# hello('world',greeting='hi') # 报错，因为位置参数已经给greeting值了\n",
    "hello('hi',name='world')"
   ]
  },
  {
   "cell_type": "markdown",
   "metadata": {},
   "source": [
    "通常不应结合使用位置参数和关键字参数，除非你知道这样做的后果。一般而言，除非必不可少的参数很少，而带默认值的可选参数很多，否则不应结合使用关键字参数和位置参数。"
   ]
  },
  {
   "cell_type": "markdown",
   "metadata": {},
   "source": [
    "### 6.4.4 收集参数"
   ]
  },
  {
   "cell_type": "markdown",
   "metadata": {},
   "source": [
    "使用*收集任意数量的参数"
   ]
  },
  {
   "cell_type": "code",
   "execution_count": 18,
   "metadata": {},
   "outputs": [
    {
     "name": "stdout",
     "output_type": "stream",
     "text": [
      "hi ('a',)\n",
      "<class 'tuple'>\n"
     ]
    }
   ],
   "source": [
    "def hello(greeting,*names):\n",
    "    print(greeting,names)\n",
    "    print(type(names))\n",
    "hello('hi','a')"
   ]
  },
  {
   "cell_type": "code",
   "execution_count": 19,
   "metadata": {},
   "outputs": [
    {
     "name": "stdout",
     "output_type": "stream",
     "text": [
      "hello a b c\n",
      "---\n",
      "hello a b c \n",
      "---\n",
      "\n",
      "hello a b c "
     ]
    }
   ],
   "source": [
    "# 常规写法\n",
    "def hello(greeting,name,name2,name3):\n",
    "    print(greeting,name,name2,name3)\n",
    "hello('hello','a','b','c')\n",
    "print('---')\n",
    "\n",
    "# 使用*的写法\n",
    "def hello(greeting,*names):\n",
    "    print(greeting,end=' ')\n",
    "    for name in names:\n",
    "        print(name,end=' ')\n",
    "hello('hello','a','b','c')\n",
    "print('\\n---\\n')\n",
    "\n",
    "# 也可以放在其他位置，这种情况需要做些额外的工作:使用名称来指定后续参数\n",
    "def hello(*names,greeting):\n",
    "    print(greeting,end=' ')\n",
    "    for name in names:\n",
    "        print(name,end=' ')\n",
    "hello('a','b','c',greeting='hello')"
   ]
  },
  {
   "cell_type": "markdown",
   "metadata": {},
   "source": [
    "\\*不会收集关键字参数，要收集关键字参数需要使用\\**"
   ]
  },
  {
   "cell_type": "code",
   "execution_count": 20,
   "metadata": {},
   "outputs": [
    {
     "name": "stdout",
     "output_type": "stream",
     "text": [
      "{'x': 1, 'y': 2, 'z': 3}\n",
      "<class 'dict'>\n"
     ]
    }
   ],
   "source": [
    "def print_test(**nums):\n",
    "    print(nums)\n",
    "    print(type(nums))\n",
    "print_test(x=1,y=2,z=3)"
   ]
  },
  {
   "cell_type": "markdown",
   "metadata": {},
   "source": [
    "也可以结合\\*和**使用"
   ]
  },
  {
   "cell_type": "code",
   "execution_count": 21,
   "metadata": {},
   "outputs": [
    {
     "name": "stdout",
     "output_type": "stream",
     "text": [
      "1 2 3\n",
      "(5, 6, 7)\n",
      "{'foo': 1, 'bar': 2}\n"
     ]
    }
   ],
   "source": [
    "def print_params(x, y, z=30, *pospar, **keypar): \n",
    "    print(x, y, z)\n",
    "    print(pospar) \n",
    "    print(keypar)\n",
    "print_params(1, 2, 3, 5, 6, 7, foo=1, bar=2)"
   ]
  },
  {
   "cell_type": "markdown",
   "metadata": {},
   "source": [
    "### 6.4.5 分配参数"
   ]
  },
  {
   "cell_type": "markdown",
   "metadata": {},
   "source": [
    "与收集参数相反，在调用时使用\\*和\\**是分配参数"
   ]
  },
  {
   "cell_type": "code",
   "execution_count": 22,
   "metadata": {},
   "outputs": [
    {
     "name": "stdout",
     "output_type": "stream",
     "text": [
      "6\n",
      "6\n",
      "Well met, Sir Robin!\n"
     ]
    }
   ],
   "source": [
    "def add(x, y): \n",
    "    return x + y\n",
    "# 常规方法\n",
    "a = 2\n",
    "b = 4\n",
    "print(add(a,b))\n",
    "\n",
    "# 如果要输入函数的参数在一个元组中呢\n",
    "a = (2,4)\n",
    "print(add(*a))\n",
    "\n",
    "# 如果要输入函数的参数在一个字典中呢\n",
    "params = {'name': 'Sir Robin', 'greeting': 'Well met'}\n",
    "def hello(greeting='Hello', name='world'): \n",
    "    print('{}, {}!'.format(greeting, name))\n",
    "hello(**params)"
   ]
  },
  {
   "cell_type": "markdown",
   "metadata": {},
   "source": [
    "这种做法也可用于参数列表的一部分，条件是这部分位于参数列表末尾。"
   ]
  },
  {
   "cell_type": "markdown",
   "metadata": {},
   "source": [
    "【注】如果在定义和调用函数时都使用\\*或\\**，将只传递元组或字典。因此还不如不使用它们，还可省却些麻烦。只有在定义函数(允许可变数量的参数)或调用函数时(拆分字典或序列)使用，星号才能发挥作用。"
   ]
  },
  {
   "cell_type": "markdown",
   "metadata": {},
   "source": [
    "# 6.5 作用域"
   ]
  },
  {
   "cell_type": "markdown",
   "metadata": {},
   "source": [
    "变量到底是什么呢?可将其视为指向值的名称。因此，执行赋值语句x = 1后，名称x指向值 1。这几乎与使用字典时一样(字典中的键指向值)，只是你使用的是“看不见”的字典。实际上， 这种解释已经离真相不远。有一个名为vars的内置函数，它返回这个不可见的字典。这种“看不见的字典”称为【命名空间】或【作用域】。那么有多少个命名空间呢?除全局作用域外，每个函数调用都将创建一个。"
   ]
  },
  {
   "cell_type": "code",
   "execution_count": 23,
   "metadata": {},
   "outputs": [
    {
     "name": "stdout",
     "output_type": "stream",
     "text": [
      "1\n"
     ]
    }
   ],
   "source": [
    "x = 1\n",
    "scope = vars()\n",
    "print(scope['x'])"
   ]
  },
  {
   "cell_type": "markdown",
   "metadata": {},
   "source": [
    "【警告】一般而言，不应修改vars返回的字典，因为根据Python官方文档的说法，这样做的结果是不确定的。换而言之，可能得不到你想要的结果。"
   ]
  },
  {
   "cell_type": "code",
   "execution_count": 24,
   "metadata": {},
   "outputs": [
    {
     "name": "stdout",
     "output_type": "stream",
     "text": [
      "shrub berry !\n"
     ]
    }
   ],
   "source": [
    "def combine(parameter): \n",
    "    print(parameter , external,'!')\n",
    "external = 'berry'\n",
    "combine('shrub')"
   ]
  },
  {
   "cell_type": "markdown",
   "metadata": {},
   "source": [
    "【警告】像这样访问全局变量是众多bug的根源。务必慎用全局变量。"
   ]
  },
  {
   "cell_type": "code",
   "execution_count": 25,
   "metadata": {},
   "outputs": [
    {
     "name": "stdout",
     "output_type": "stream",
     "text": [
      "shrub  !\n",
      "berry\n"
     ]
    }
   ],
   "source": [
    "def combine(parameter): \n",
    "    external = ''\n",
    "    print(parameter , external,'!')\n",
    "external = 'berry'\n",
    "combine('shrub')\n",
    "print(external)"
   ]
  },
  {
   "cell_type": "markdown",
   "metadata": {},
   "source": [
    "读取全局变量的值通常不会有问题，但还是存在出现问题的可能性。如果有一个局部变量或参数与你要访问的全局变量同名，就无法直接访问全局变量，因为它被局部变量遮住了。\n",
    "\n",
    "如果需要，可使用函数globals来访问全局变量。这个函数类似于vars，返回一个包含全 局变量的字典。(locals返回一个包含局部变量的字典。)"
   ]
  },
  {
   "cell_type": "code",
   "execution_count": 26,
   "metadata": {},
   "outputs": [
    {
     "name": "stdout",
     "output_type": "stream",
     "text": [
      "shrub berry !\n",
      "berry\n"
     ]
    }
   ],
   "source": [
    "def combine(parameter): \n",
    "    external = ''\n",
    "    print(parameter , globals()['external'],'!')\n",
    "external = 'berry'\n",
    "combine('shrub')\n",
    "print(external)"
   ]
  },
  {
   "cell_type": "markdown",
   "metadata": {},
   "source": [
    "在函数内部给变量赋值时，该变量默认为 局部变量，除非你明确地告诉Python它是全局变量。那么如何将这一点告知Python呢?"
   ]
  },
  {
   "cell_type": "code",
   "execution_count": 28,
   "metadata": {},
   "outputs": [
    {
     "name": "stdout",
     "output_type": "stream",
     "text": [
      "11\n"
     ]
    }
   ],
   "source": [
    "x = 1\n",
    "def change_global():\n",
    "    global x \n",
    "    x=x+10\n",
    "change_global()\n",
    "print(x)"
   ]
  },
  {
   "cell_type": "markdown",
   "metadata": {},
   "source": [
    "python中函数可以嵌套，嵌套通常用处不大，但有一个很突出的用途:使用一个函数来创建另一个函数。这意味着可像下面这样编写函数:"
   ]
  },
  {
   "cell_type": "code",
   "execution_count": 38,
   "metadata": {},
   "outputs": [
    {
     "name": "stdout",
     "output_type": "stream",
     "text": [
      "3 2\n",
      "6\n",
      "4 2\n",
      "8\n",
      "3 3\n",
      "9\n",
      "4 3\n",
      "12\n",
      "4 5\n",
      "20\n"
     ]
    }
   ],
   "source": [
    "def multiplier(factor):\n",
    "    def multiplyByFactor(number):\n",
    "        print(number,factor)\n",
    "        return number * factor \n",
    "    return multiplyByFactor\n",
    "double = multiplier(2)\n",
    "print(double(3))\n",
    "print(double(4))\n",
    "\n",
    "triple = multiplier(3)\n",
    "print(triple(3))\n",
    "print(triple(4))\n",
    "\n",
    "print(multiplier(5)(4)) #前面的是外层的参数，后面的是内层的参数"
   ]
  },
  {
   "cell_type": "markdown",
   "metadata": {},
   "source": [
    "像multiplyByFactor这样存储其所在作用域的函数称为闭包。\n",
    "\n",
    "通常，不能给外部作用域内的变量赋值，但如果一定要这样做，可使用关键字nonlocal。 这个关键字的用法与global很像，让你能够给外部作用域(非全局作用域)内的变量赋值。"
   ]
  },
  {
   "cell_type": "markdown",
   "metadata": {},
   "source": [
    "# 6.6 递归"
   ]
  },
  {
   "cell_type": "markdown",
   "metadata": {},
   "source": [
    "函数可调用其他函数，函数还可调用自己。\n",
    "\n",
    "哈哈哈，一个常见的递归的定义：\n",
    "\n",
    "递归[名词]:参见“递归”。"
   ]
  },
  {
   "cell_type": "code",
   "execution_count": 41,
   "metadata": {},
   "outputs": [],
   "source": [
    "def recursion(): \n",
    "    return recursion()"
   ]
  },
  {
   "cell_type": "code",
   "execution_count": 44,
   "metadata": {},
   "outputs": [
    {
     "name": "stdout",
     "output_type": "stream",
     "text": [
      "24\n"
     ]
    }
   ],
   "source": [
    "# 求n的阶乘\n",
    "def factorial(n): \n",
    "    result = n\n",
    "    for i in range(1, n): \n",
    "        result *= i\n",
    "    return result\n",
    "print(factorial(4))"
   ]
  },
  {
   "cell_type": "markdown",
   "metadata": {},
   "source": [
    "# 6.7 函数式编程"
   ]
  },
  {
   "cell_type": "markdown",
   "metadata": {},
   "source": [
    "Python提供了一些有助于进行这种函数式编程的函数:map、filter和reduce。在较新的Python版本中，函数map和filter的用途并不大，应该使用列表推导来替代它们。你可使用map将序列的所有元素传递给函数。"
   ]
  },
  {
   "cell_type": "code",
   "execution_count": 47,
   "metadata": {},
   "outputs": [
    {
     "name": "stdout",
     "output_type": "stream",
     "text": [
      "['0', '1', '2', '3', '4', '5', '6', '7', '8', '9']\n"
     ]
    }
   ],
   "source": [
    "print(list(map(str, range(10))) )\n",
    "\n",
    "# 与[str(i) for i in range(10)]等价"
   ]
  },
  {
   "cell_type": "markdown",
   "metadata": {},
   "source": [
    "你可使用filter根据布尔函数的返回值来对元素进行过滤。"
   ]
  },
  {
   "cell_type": "code",
   "execution_count": 48,
   "metadata": {},
   "outputs": [
    {
     "name": "stdout",
     "output_type": "stream",
     "text": [
      "['foo', 'x41']\n"
     ]
    }
   ],
   "source": [
    "def func(x):\n",
    "    return x.isalnum()\n",
    "seq = [\"foo\", \"x41\", \"?!\", \"***\"]\n",
    "print(list(filter(func,seq)))\n",
    "\n",
    "# 与[x for x in seq if x.isalnum()]等价"
   ]
  },
  {
   "cell_type": "markdown",
   "metadata": {},
   "source": [
    "Python提供了一种名为lambda表达式1的功能，让你能够创建内嵌的简单函数 (主要供map、filter和reduce使用)。"
   ]
  },
  {
   "cell_type": "code",
   "execution_count": 53,
   "metadata": {},
   "outputs": [
    {
     "name": "stdout",
     "output_type": "stream",
     "text": [
      "['foo', 'x41']\n"
     ]
    }
   ],
   "source": [
    "print(list(filter(lambda x: x.isalnum(), seq)))"
   ]
  },
  {
   "cell_type": "markdown",
   "metadata": {},
   "source": [
    "【注】推荐使用列表推导，不用map和filter"
   ]
  },
  {
   "cell_type": "code",
   "execution_count": null,
   "metadata": {},
   "outputs": [],
   "source": []
  }
 ],
 "metadata": {
  "kernelspec": {
   "display_name": "Python 3",
   "language": "python",
   "name": "python3"
  },
  "language_info": {
   "codemirror_mode": {
    "name": "ipython",
    "version": 3
   },
   "file_extension": ".py",
   "mimetype": "text/x-python",
   "name": "python",
   "nbconvert_exporter": "python",
   "pygments_lexer": "ipython3",
   "version": "3.7.6"
  }
 },
 "nbformat": 4,
 "nbformat_minor": 4
}
