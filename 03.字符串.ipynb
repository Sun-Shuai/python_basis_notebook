{
 "cells": [
  {
   "cell_type": "markdown",
   "metadata": {},
   "source": [
    "# 3.1 基本操作"
   ]
  },
  {
   "cell_type": "markdown",
   "metadata": {},
   "source": [
    "见第二节序列通用操作"
   ]
  },
  {
   "cell_type": "markdown",
   "metadata": {},
   "source": [
    "# 3.2 设置字符串格式：精简版"
   ]
  },
  {
   "cell_type": "markdown",
   "metadata": {},
   "source": [
    "### 方法一 转换说明符 %"
   ]
  },
  {
   "cell_type": "markdown",
   "metadata": {},
   "source": [
    "%左边指定一个字符串，右边指定要设置其格式的值，可以是单个值或元组。%s,%d,%f"
   ]
  },
  {
   "cell_type": "code",
   "execution_count": 1,
   "metadata": {},
   "outputs": [
    {
     "name": "stdout",
     "output_type": "stream",
     "text": [
      "My name is Thoth.\n"
     ]
    }
   ],
   "source": [
    "print(\"My name is %s.\" % 'Thoth')"
   ]
  },
  {
   "cell_type": "code",
   "execution_count": 2,
   "metadata": {},
   "outputs": [
    {
     "name": "stdout",
     "output_type": "stream",
     "text": [
      "My name is Thoth, I'm 24 years old.       I have 5.000 million\n"
     ]
    }
   ],
   "source": [
    "print(\"My name is %s, I'm %d years old. \\\n",
    "      I have %.3f million\" % ('Thoth',24,5))"
   ]
  },
  {
   "cell_type": "markdown",
   "metadata": {},
   "source": [
    "### 方法二 模板字符串"
   ]
  },
  {
   "cell_type": "code",
   "execution_count": 3,
   "metadata": {},
   "outputs": [
    {
     "name": "stdout",
     "output_type": "stream",
     "text": [
      "My name is Thoth, I'm 24 years old.\n"
     ]
    }
   ],
   "source": [
    "from string import Template\n",
    "tmpl = Template(\"My name is $who, I'm $age years old.\")\n",
    "print(tmpl.substitute(who='Thoth',age=24))"
   ]
  },
  {
   "cell_type": "markdown",
   "metadata": {},
   "source": [
    "### 方法三 字符串方法format"
   ]
  },
  {
   "cell_type": "code",
   "execution_count": 4,
   "metadata": {},
   "outputs": [
    {
     "name": "stdout",
     "output_type": "stream",
     "text": [
      "first, second and third\n",
      "first, second and third\n",
      "to be or not to be\n"
     ]
    }
   ],
   "source": [
    "# 没有名称\n",
    "print(\"{}, {} and {}\".format(\"first\",\"second\",\"third\"))\n",
    "# 使用索引作为名称\n",
    "print(\"{0}, {1} and {2}\".format(\"first\", \"second\", \"third\"))\n",
    "print(\"{3} {0} {2} {1} {3} {0}\".format(\"be\", \"not\", \"or\", \"to\"))"
   ]
  },
  {
   "cell_type": "code",
   "execution_count": 5,
   "metadata": {},
   "outputs": [
    {
     "name": "stdout",
     "output_type": "stream",
     "text": [
      "π is approximately 3.14.\n"
     ]
    }
   ],
   "source": [
    "# 使用名称\n",
    "from math import pi\n",
    "print(\"{name} is approximately {value:.2f}.\".format(value=pi, name=\"π\"))"
   ]
  },
  {
   "cell_type": "code",
   "execution_count": 6,
   "metadata": {},
   "outputs": [
    {
     "name": "stdout",
     "output_type": "stream",
     "text": [
      "Euler's constant is roughly 2.718281828459045.\n",
      "Euler's constant is roughly 2.718281828459045.\n"
     ]
    }
   ],
   "source": [
    "# python3.6及以上，如果变量与替换字段同名，可以使用f字符串——在字符串前面加上f\n",
    "from math import e\n",
    "print(f\"Euler's constant is roughly {e}.\")\n",
    "print(\"Euler's constant is roughly {e}.\".format(e=e))"
   ]
  },
  {
   "cell_type": "markdown",
   "metadata": {},
   "source": [
    "# 3.3 设置字符串的格式：完整版"
   ]
  },
  {
   "cell_type": "markdown",
   "metadata": {},
   "source": [
    "format 方法的扩展，使用一种微型格式指定语言(mini-language)指定的。每个值都被插入字符串中，以替换用花括号括起的替换字段。"
   ]
  },
  {
   "cell_type": "code",
   "execution_count": 7,
   "metadata": {},
   "outputs": [
    {
     "name": "stdout",
     "output_type": "stream",
     "text": [
      "{ceci n'est pas une replacement field}\n"
     ]
    }
   ],
   "source": [
    "# 要在最终结果中包含花括号，可在格式字符串中使用两个花括号(即{{或}})来指定。\n",
    "print(\"{{ceci n'est pas une replacement field}}\".format())"
   ]
  },
  {
   "cell_type": "markdown",
   "metadata": {},
   "source": [
    "替换字段包括：\n",
    "1.字段名\n",
    "2.转换标志：r(表示repr)、s(表示str) 和a(表示ascii)\n",
    "3.格式说明符：如浮点数的位数\n",
    "\n",
    "每个部分都是可选的。"
   ]
  },
  {
   "cell_type": "markdown",
   "metadata": {},
   "source": [
    "### 3.3.1 替换字段名"
   ]
  },
  {
   "cell_type": "code",
   "execution_count": 8,
   "metadata": {},
   "outputs": [
    {
     "name": "stdout",
     "output_type": "stream",
     "text": [
      "3 1 4 2\n"
     ]
    }
   ],
   "source": [
    "print(\"{foo} {} {bar} {}\".format(1, 2, bar=4, foo=3))"
   ]
  },
  {
   "cell_type": "code",
   "execution_count": 9,
   "metadata": {},
   "outputs": [
    {
     "name": "stdout",
     "output_type": "stream",
     "text": [
      "3 2 4 1\n"
     ]
    }
   ],
   "source": [
    "print(\"{foo} {1} {bar} {0}\".format(1, 2, bar=4, foo=3))"
   ]
  },
  {
   "cell_type": "markdown",
   "metadata": {},
   "source": [
    "可以只使用指定的值的一部分"
   ]
  },
  {
   "cell_type": "code",
   "execution_count": 10,
   "metadata": {},
   "outputs": [
    {
     "name": "stdout",
     "output_type": "stream",
     "text": [
      "Hello, Mr Smoketoomuch\n"
     ]
    }
   ],
   "source": [
    "usernames = ['Alfred','Smoketoomuch']\n",
    "print(\"Hello, Mr {names[1]}\".format(names=usernames))"
   ]
  },
  {
   "cell_type": "markdown",
   "metadata": {},
   "source": [
    "### 3.3.2 基本转换"
   ]
  },
  {
   "cell_type": "markdown",
   "metadata": {},
   "source": [
    "使用转换标志进行基本转换"
   ]
  },
  {
   "cell_type": "code",
   "execution_count": 11,
   "metadata": {},
   "outputs": [
    {
     "name": "stdout",
     "output_type": "stream",
     "text": [
      "π 'π' '\\u03c0'\n"
     ]
    }
   ],
   "source": [
    "print(\"{pi!s} {pi!r} {pi!a}\".format(pi=\"π\"))"
   ]
  },
  {
   "cell_type": "markdown",
   "metadata": {},
   "source": [
    "b 二进制\n",
    "\n",
    "c Unicode\n",
    "\n",
    "d 十进制整数\n",
    "\n",
    "e 科学计数法表示小数，用e表示指数\n",
    "\n",
    "E 同e，用E表示指数\n",
    "\n",
    "f 定点小数\n",
    "\n",
    "F 同f，特殊值nan和inf用大写表示\n",
    "\n",
    "g 自动选择定点表示法（f）和科学计数法（e）\n",
    "\n",
    "G 同g，大写表示指数和特殊值\n",
    "\n",
    "n 同g，但插入随区域而异的数字分隔符\n",
    "\n",
    "o 八进制整数\n",
    "\n",
    "s 字符串\n",
    "\n",
    "x 十六进制小写\n",
    "\n",
    "X 同x，大写\n",
    "\n",
    "% 以百分比值表示"
   ]
  },
  {
   "cell_type": "code",
   "execution_count": 12,
   "metadata": {},
   "outputs": [
    {
     "name": "stdout",
     "output_type": "stream",
     "text": [
      "The number is 42\n",
      "The number is 42.000000\n",
      "The number is 101010\n"
     ]
    }
   ],
   "source": [
    "print(\"The number is {num}\".format(num=42))\n",
    "print(\"The number is {num:f}\".format(num=42))\n",
    "print(\"The number is {num:b}\".format(num=42))"
   ]
  },
  {
   "cell_type": "markdown",
   "metadata": {},
   "source": [
    "### 3.3.3 宽度、精度和千位分隔符"
   ]
  },
  {
   "cell_type": "markdown",
   "metadata": {},
   "source": [
    "宽度"
   ]
  },
  {
   "cell_type": "code",
   "execution_count": 13,
   "metadata": {},
   "outputs": [
    {
     "name": "stdout",
     "output_type": "stream",
     "text": [
      "3\n",
      "    3\n",
      "'Bob'\n",
      "'Bob       '\n"
     ]
    }
   ],
   "source": [
    "print(\"{num}\".format(num=3))\n",
    "print(\"{num:5}\".format(num=3))\n",
    "print(repr(\"{name}\".format(name=\"Bob\")))\n",
    "print(repr(\"{name:10}\".format(name=\"Bob\")))"
   ]
  },
  {
   "cell_type": "markdown",
   "metadata": {},
   "source": [
    "精度"
   ]
  },
  {
   "cell_type": "code",
   "execution_count": 14,
   "metadata": {},
   "outputs": [
    {
     "name": "stdout",
     "output_type": "stream",
     "text": [
      "Pi day is 3.14\n",
      "Guido\n"
     ]
    }
   ],
   "source": [
    "print(\"Pi day is {pi:.2f}\".format(pi=pi))\n",
    "# 其他类型也可指定精度，不常用\n",
    "print(\"{:.5}\".format(\"Guido van Rossum\"))"
   ]
  },
  {
   "cell_type": "markdown",
   "metadata": {},
   "source": [
    "同时使用宽度和精度"
   ]
  },
  {
   "cell_type": "code",
   "execution_count": 15,
   "metadata": {},
   "outputs": [
    {
     "name": "stdout",
     "output_type": "stream",
     "text": [
      "      3.14\n"
     ]
    }
   ],
   "source": [
    "print(\"{pi:10.2f}\".format(pi=pi))"
   ]
  },
  {
   "cell_type": "markdown",
   "metadata": {},
   "source": [
    "用逗号指出想要添加千位分隔符。（同时指定其他格式设置元素时，这个逗号应放在宽度和表示精度的句点之间。）"
   ]
  },
  {
   "cell_type": "code",
   "execution_count": 16,
   "metadata": {},
   "outputs": [
    {
     "name": "stdout",
     "output_type": "stream",
     "text": [
      "One googol is 10,000,000,000,000,000,000,000,000,000,000,000,000,000,000,000,000,000,000,000,000,000,000,000,000,000,000,000,000,000,000,000,000,000\n"
     ]
    }
   ],
   "source": [
    "print('One googol is {:,}'.format(10**100))"
   ]
  },
  {
   "cell_type": "markdown",
   "metadata": {},
   "source": [
    "### 3.3.4 符号、对齐和用0填充"
   ]
  },
  {
   "cell_type": "markdown",
   "metadata": {},
   "source": [
    "符号"
   ]
  },
  {
   "cell_type": "code",
   "execution_count": 17,
   "metadata": {},
   "outputs": [
    {
     "name": "stdout",
     "output_type": "stream",
     "text": [
      "3.14\n",
      " 3.14\n",
      "      3.14\n",
      "0000003.14\n",
      "     +3.14\n",
      "     -3.14\n",
      "      3.14\n",
      "     -3.14\n"
     ]
    }
   ],
   "source": [
    "print('{:.2f}'.format(pi))\n",
    "print('{: .2f}'.format(pi))\n",
    "print('{:10.2f}'.format(pi))\n",
    "print('{:010.2f}'.format(pi))\n",
    "print('{:+10.2f}'.format(pi))\n",
    "print('{:+10.2f}'.format(-pi))\n",
    "print('{:-10.2f}'.format(pi))\n",
    "print('{:-10.2f}'.format(-pi))"
   ]
  },
  {
   "cell_type": "markdown",
   "metadata": {},
   "source": [
    "对齐：左对齐< 右对齐> 居中^"
   ]
  },
  {
   "cell_type": "code",
   "execution_count": 18,
   "metadata": {},
   "outputs": [
    {
     "name": "stdout",
     "output_type": "stream",
     "text": [
      "3.14      \n",
      "   3.14   \n",
      "      3.14\n"
     ]
    }
   ],
   "source": [
    "print('{0:<10.2f}\\n{0:^10.2f}\\n{0:>10.2f}'.format(pi))"
   ]
  },
  {
   "cell_type": "markdown",
   "metadata": {},
   "source": [
    "用符号代替空格填充对齐"
   ]
  },
  {
   "cell_type": "code",
   "execution_count": 19,
   "metadata": {},
   "outputs": [
    {
     "name": "stdout",
     "output_type": "stream",
     "text": [
      "    WIN BIG    \n",
      "$$$ WIN BIG $$$\n",
      "*** WIN BIG ***\n",
      "000 WIN BIG 000\n"
     ]
    }
   ],
   "source": [
    "print(\"{:^15}\".format(\" WIN BIG \"))\n",
    "print(\"{:$^15}\".format(\" WIN BIG \"))\n",
    "print(\"{:*^15}\".format(\" WIN BIG \"))\n",
    "print(\"{:0^15}\".format(\" WIN BIG \"))"
   ]
  },
  {
   "cell_type": "markdown",
   "metadata": {},
   "source": [
    "用=指定将填充字符放在符号和数字之间"
   ]
  },
  {
   "cell_type": "code",
   "execution_count": 20,
   "metadata": {},
   "outputs": [
    {
     "name": "stdout",
     "output_type": "stream",
     "text": [
      "     -3.14\n",
      "-     3.14\n"
     ]
    }
   ],
   "source": [
    "print('{:10.2f}'.format(-pi))\n",
    "print('{:=10.2f}'.format(-pi))"
   ]
  },
  {
   "cell_type": "markdown",
   "metadata": {},
   "source": [
    "用#为二进制、八进制、十六进制等转换方式加上前缀或后缀"
   ]
  },
  {
   "cell_type": "code",
   "execution_count": 21,
   "metadata": {},
   "outputs": [
    {
     "name": "stdout",
     "output_type": "stream",
     "text": [
      "101010\n",
      "0b101010\n"
     ]
    }
   ],
   "source": [
    "print(\"{:b}\".format(42))\n",
    "print(\"{:#b}\".format(42))"
   ]
  },
  {
   "cell_type": "code",
   "execution_count": 22,
   "metadata": {},
   "outputs": [
    {
     "name": "stdout",
     "output_type": "stream",
     "text": [
      "42\n",
      "42.0000\n"
     ]
    }
   ],
   "source": [
    "print(\"{:g}\".format(42))\n",
    "print(\"{:#g}\".format(42))"
   ]
  },
  {
   "cell_type": "markdown",
   "metadata": {},
   "source": [
    "# 3.4 字符串方法"
   ]
  },
  {
   "cell_type": "markdown",
   "metadata": {},
   "source": [
    "### 3.4.1 center"
   ]
  },
  {
   "cell_type": "markdown",
   "metadata": {},
   "source": [
    "通过在两边添加填充字符(默认为空格)让字符串居中"
   ]
  },
  {
   "cell_type": "code",
   "execution_count": 33,
   "metadata": {},
   "outputs": [
    {
     "name": "stdout",
     "output_type": "stream",
     "text": [
      "'          The Middle by Jimmy Eat World           '\n",
      "'**********The Middle by Jimmy Eat World***********'\n"
     ]
    }
   ],
   "source": [
    "print(repr(\"The Middle by Jimmy Eat World\".center(50)))\n",
    "print(repr(\"The Middle by Jimmy Eat World\".center(50,'*')))"
   ]
  },
  {
   "cell_type": "markdown",
   "metadata": {},
   "source": [
    "### 3.4.2 find"
   ]
  },
  {
   "cell_type": "markdown",
   "metadata": {},
   "source": [
    "在字符串中查找子串。如果找到，就返回子串的第一个字符的索引，否则返回-1"
   ]
  },
  {
   "cell_type": "code",
   "execution_count": 38,
   "metadata": {},
   "outputs": [
    {
     "name": "stdout",
     "output_type": "stream",
     "text": [
      "7\n",
      "0\n",
      "-1\n"
     ]
    }
   ],
   "source": [
    "print('With a moo-moo here, and a moo-moo there'.find('moo'))\n",
    "print(\"Monty Python's Flying Circus\".find('Monty'))\n",
    "print(\"Monty Python's Flying Circus\".find('Montya'))"
   ]
  },
  {
   "cell_type": "markdown",
   "metadata": {},
   "source": [
    "还可以指定搜索的起点和终点，起点和终点值(第二个和第三个参数)指定的搜索范围包含起点，但不包含终点。"
   ]
  },
  {
   "cell_type": "code",
   "execution_count": 42,
   "metadata": {},
   "outputs": [
    {
     "name": "stdout",
     "output_type": "stream",
     "text": [
      "0\n",
      "20\n",
      "16\n",
      "-1\n"
     ]
    }
   ],
   "source": [
    "subject = '$$$ Get rich now!!! $$$'\n",
    "print(subject.find('$$$'))\n",
    "print(subject.find('$$$', 1)) # 只指定了起点\n",
    "print(subject.find('!!!'))\n",
    "print(subject.find('!!!', 0, 16)) # 同时指定了起点和终点"
   ]
  },
  {
   "cell_type": "markdown",
   "metadata": {},
   "source": [
    "### 3.4.3 join"
   ]
  },
  {
   "cell_type": "markdown",
   "metadata": {},
   "source": [
    "是一个非常重要的字符串方法，其作用与split相反，用于合并序列的元素"
   ]
  },
  {
   "cell_type": "code",
   "execution_count": 44,
   "metadata": {},
   "outputs": [
    {
     "name": "stdout",
     "output_type": "stream",
     "text": [
      "1+2+3+4+5\n"
     ]
    }
   ],
   "source": [
    "seq = ['1', '2', '3', '4', '5']\n",
    "print(\"+\".join(seq)) # 合并一个字符串列表"
   ]
  },
  {
   "cell_type": "code",
   "execution_count": 48,
   "metadata": {},
   "outputs": [
    {
     "name": "stdout",
     "output_type": "stream",
     "text": [
      "/usr/bin/env\n",
      "C:\\usr\\bin\\env\n"
     ]
    }
   ],
   "source": [
    "dirs = '', 'usr', 'bin', 'env'\n",
    "print('/'.join(dirs)) # 合并一个字符串元组\n",
    "print('C:' + '\\\\'.join(dirs))"
   ]
  },
  {
   "cell_type": "markdown",
   "metadata": {},
   "source": [
    "### 3.4.4 大小写转换"
   ]
  },
  {
   "cell_type": "markdown",
   "metadata": {},
   "source": [
    "lower() 返回字符串的小写版本"
   ]
  },
  {
   "cell_type": "code",
   "execution_count": 53,
   "metadata": {},
   "outputs": [
    {
     "name": "stdout",
     "output_type": "stream",
     "text": [
      "trondheim hammer dance\n"
     ]
    }
   ],
   "source": [
    "print('Trondheim Hammer Dance'.lower())"
   ]
  },
  {
   "cell_type": "markdown",
   "metadata": {},
   "source": [
    "upper() 返回字符串的大写版本"
   ]
  },
  {
   "cell_type": "code",
   "execution_count": 54,
   "metadata": {},
   "outputs": [
    {
     "name": "stdout",
     "output_type": "stream",
     "text": [
      "TRONDHEIM HAMMER DANCE\n"
     ]
    }
   ],
   "source": [
    "print('Trondheim Hammer Dance'.upper())"
   ]
  },
  {
   "cell_type": "markdown",
   "metadata": {},
   "source": [
    "title() 返回字符串的首字母大写版本"
   ]
  },
  {
   "cell_type": "code",
   "execution_count": 55,
   "metadata": {},
   "outputs": [
    {
     "name": "stdout",
     "output_type": "stream",
     "text": [
      "Trondheim Hammer Dance\n"
     ]
    }
   ],
   "source": [
    "print('trondheim hammer dance'.title())"
   ]
  },
  {
   "cell_type": "markdown",
   "metadata": {},
   "source": [
    "### 3.4.5 replace"
   ]
  },
  {
   "cell_type": "markdown",
   "metadata": {},
   "source": [
    "将指定子串都替换为另一个字符串，并返回替换后的结果"
   ]
  },
  {
   "cell_type": "code",
   "execution_count": 59,
   "metadata": {},
   "outputs": [
    {
     "name": "stdout",
     "output_type": "stream",
     "text": [
      "Theez eez a test\n"
     ]
    }
   ],
   "source": [
    "print('This is a test'.replace('is', 'eez'))"
   ]
  },
  {
   "cell_type": "markdown",
   "metadata": {},
   "source": [
    "### 3.4.6 split"
   ]
  },
  {
   "cell_type": "markdown",
   "metadata": {},
   "source": [
    "是一个非常重要的字符串方法，其作用与join相反，用于将字符串拆分为序列"
   ]
  },
  {
   "cell_type": "code",
   "execution_count": 66,
   "metadata": {},
   "outputs": [
    {
     "name": "stdout",
     "output_type": "stream",
     "text": [
      "['1', '2', '3', '4', '5']\n",
      "['', 'usr', 'bin', 'env']\n",
      "['Using', 'the', 'default']\n"
     ]
    }
   ],
   "source": [
    "print('1+2+3+4+5'.split('+'))\n",
    "print('/usr/bin/env'.split('/'))\n",
    "print('Using the default'.split()) # 没有指定分隔符，默认在连续空白字符处拆分"
   ]
  },
  {
   "cell_type": "markdown",
   "metadata": {},
   "source": [
    "### 3.4.7 strip"
   ]
  },
  {
   "cell_type": "markdown",
   "metadata": {},
   "source": [
    "将字符串开头和末尾的空白(但不包括中间的空白)删除，并返回删除后的结果"
   ]
  },
  {
   "cell_type": "code",
   "execution_count": 68,
   "metadata": {},
   "outputs": [
    {
     "name": "stdout",
     "output_type": "stream",
     "text": [
      "'internal whitespace is kept'\n"
     ]
    }
   ],
   "source": [
    "print(repr(' internal whitespace is kept '.strip()))"
   ]
  },
  {
   "cell_type": "markdown",
   "metadata": {},
   "source": [
    "### 3.4.8 translate"
   ]
  },
  {
   "cell_type": "markdown",
   "metadata": {},
   "source": [
    "方法translate与replace一样替换字符串的特定部分，但不同的是它只能进行单字符替换。 这个方法的优势在于能够同时替换多个字符，因此效率比replace高"
   ]
  },
  {
   "cell_type": "markdown",
   "metadata": {},
   "source": [
    "使用translate前必须创建一个转换表。这个转换表指出了不同Unicode码点之间的转\n",
    "换关系。要创建转换表，可对字符串类型str调用方法maketrans，这个方法接受两个参数:两个长度相同的字符串，它们指定要将第一个字符串中的每个字符都替换为第二个字符串中的相应字符"
   ]
  },
  {
   "cell_type": "code",
   "execution_count": 73,
   "metadata": {},
   "outputs": [
    {
     "name": "stdout",
     "output_type": "stream",
     "text": [
      "{99: 107, 115: 122}\n",
      "thiz iz an inkredible tezt\n"
     ]
    }
   ],
   "source": [
    "table = str.maketrans('cs', 'kz') # 将字符c和s分别替换为k和z\n",
    "print(table)\n",
    "print('this is an incredible test'.translate(table))"
   ]
  },
  {
   "cell_type": "markdown",
   "metadata": {},
   "source": [
    "调用方法maketrans时，还可提供可选的第三个参数，指定要将哪些字母删除。例如，要模 仿语速极快的德国口音，可将所有的空格都删除"
   ]
  },
  {
   "cell_type": "code",
   "execution_count": 74,
   "metadata": {},
   "outputs": [
    {
     "name": "stdout",
     "output_type": "stream",
     "text": [
      "{99: 107, 115: 122, 32: None}\n",
      "thizizaninkredibletezt\n"
     ]
    }
   ],
   "source": [
    "table = str.maketrans('cs', 'kz', ' ')\n",
    "print(table)\n",
    "print('this is an incredible test'.translate(table))"
   ]
  },
  {
   "cell_type": "markdown",
   "metadata": {},
   "source": [
    "### 3.4.9 判断字符串是否满足特定的条件"
   ]
  },
  {
   "cell_type": "markdown",
   "metadata": {},
   "source": [
    "isalnum、isalpha、isdecimal、isdigit、isidentifier、islower、isnumeric、 isprintable、isspace、istitle、isupper"
   ]
  },
  {
   "cell_type": "code",
   "execution_count": null,
   "metadata": {},
   "outputs": [],
   "source": []
  }
 ],
 "metadata": {
  "kernelspec": {
   "display_name": "Python 3",
   "language": "python",
   "name": "python3"
  },
  "language_info": {
   "codemirror_mode": {
    "name": "ipython",
    "version": 3
   },
   "file_extension": ".py",
   "mimetype": "text/x-python",
   "name": "python",
   "nbconvert_exporter": "python",
   "pygments_lexer": "ipython3",
   "version": "3.7.6"
  }
 },
 "nbformat": 4,
 "nbformat_minor": 4
}
