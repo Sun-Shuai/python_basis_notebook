{
 "cells": [
  {
   "cell_type": "markdown",
   "metadata": {},
   "source": [
    "# 5.1 print 和 import"
   ]
  },
  {
   "cell_type": "markdown",
   "metadata": {},
   "source": [
    "### 5.1.1 打印多个参数"
   ]
  },
  {
   "cell_type": "markdown",
   "metadata": {},
   "source": [
    "将多个参数用逗号分隔开，合并文本和变量值，而又不想使用字符 串格式设置功能时，这种行为很有帮助"
   ]
  },
  {
   "cell_type": "code",
   "execution_count": 1,
   "metadata": {},
   "outputs": [
    {
     "name": "stdout",
     "output_type": "stream",
     "text": [
      "Hello 32\n",
      "Hello_32\n",
      "Hello*32\n"
     ]
    }
   ],
   "source": [
    "a = 'Hello'\n",
    "print(a,32)\n",
    "print(a,32,sep='_')\n",
    "print(a,32,sep='*')"
   ]
  },
  {
   "cell_type": "markdown",
   "metadata": {},
   "source": [
    "自定义结束字符串"
   ]
  },
  {
   "cell_type": "code",
   "execution_count": 2,
   "metadata": {},
   "outputs": [
    {
     "name": "stdout",
     "output_type": "stream",
     "text": [
      "hello\n",
      "world\n",
      "hello+world\n"
     ]
    }
   ],
   "source": [
    "# 默认是换行\n",
    "print(\"hello\")\n",
    "print(\"world\")\n",
    "# 自定义\n",
    "print(\"hello\",end='+')\n",
    "print(\"world\")"
   ]
  },
  {
   "cell_type": "markdown",
   "metadata": {},
   "source": [
    "### 5.1.2 导入时重命名"
   ]
  },
  {
   "cell_type": "markdown",
   "metadata": {},
   "source": [
    "两种导入方式\n",
    "\n",
    "1.import somemodule\n",
    "\n",
    "2.from somemodule import somefunction\n",
    "\n",
    "from somemodule import somefunction, anotherfunction, yetanotherfunction\n",
    "\n",
    "from somemodule import *\n",
    "\n",
    "3.from sommodule.somesubmodule import somefunction\n",
    "\n",
    "对1重命名.\n",
    "import somemodule as somename\n",
    "\n",
    "对2重命名.\n",
    "from somemodule import somefunction as somename\n",
    "\n",
    "对3重命名.\n",
    "from sommodule.somesubmodule import somefunction as somename"
   ]
  },
  {
   "cell_type": "markdown",
   "metadata": {},
   "source": [
    "# 5.2 赋值魔法"
   ]
  },
  {
   "cell_type": "markdown",
   "metadata": {},
   "source": [
    "### 5.2.1 序列解包"
   ]
  },
  {
   "cell_type": "code",
   "execution_count": 3,
   "metadata": {},
   "outputs": [
    {
     "name": "stdout",
     "output_type": "stream",
     "text": [
      "3\n"
     ]
    }
   ],
   "source": [
    "x,y,z = 1,2,3\n",
    "print(z)"
   ]
  },
  {
   "cell_type": "markdown",
   "metadata": {},
   "source": [
    "实际上，这里执行的操作称为【序列解包】（或【可迭代对象解包】）"
   ]
  },
  {
   "cell_type": "code",
   "execution_count": 4,
   "metadata": {},
   "outputs": [
    {
     "name": "stdout",
     "output_type": "stream",
     "text": [
      "(1, 2, 3)\n",
      "3\n"
     ]
    }
   ],
   "source": [
    "values = 1,2,3\n",
    "print(values)\n",
    "x,y,z = values\n",
    "print(z)"
   ]
  },
  {
   "cell_type": "markdown",
   "metadata": {},
   "source": [
    "使用这种方式还可交换多个变量的值"
   ]
  },
  {
   "cell_type": "code",
   "execution_count": 5,
   "metadata": {},
   "outputs": [
    {
     "name": "stdout",
     "output_type": "stream",
     "text": [
      "1 2\n",
      "2 1\n"
     ]
    }
   ],
   "source": [
    "x,y = 1,2\n",
    "print(x,end=\" \")\n",
    "print(y)\n",
    "x,y = y,x\n",
    "print(x,end=\" \")\n",
    "print(y)"
   ]
  },
  {
   "cell_type": "markdown",
   "metadata": {},
   "source": [
    "这在使用返回元组(或其他序列或可迭代对象)的函数或方法时很有用。假设要从字典中随 便获取(或删除)一个键值对，可使用方法popitem，它随便获取一个键值对并以元组的方式 返回。接下来，可直接将返回的元组解包到两个变量中。"
   ]
  },
  {
   "cell_type": "code",
   "execution_count": 6,
   "metadata": {},
   "outputs": [
    {
     "name": "stdout",
     "output_type": "stream",
     "text": [
      "girlfriend\n",
      "Marion\n"
     ]
    }
   ],
   "source": [
    "scoundrel = {'name': 'Robin', 'girlfriend': 'Marion'}\n",
    "key,value = scoundrel.popitem()\n",
    "print(key)\n",
    "print(value)"
   ]
  },
  {
   "cell_type": "markdown",
   "metadata": {},
   "source": [
    "要解包的序列包含的元素个数必须与你在等号左边列出的目标个数相同，否则Python将引发异常。\n",
    "\n",
    "可使用星号运算符(*)来收集多余的值，这样无需确保值和变量的个数相同，带星号的变量最终包含的总是一个列表。"
   ]
  },
  {
   "cell_type": "code",
   "execution_count": 7,
   "metadata": {},
   "outputs": [
    {
     "name": "stdout",
     "output_type": "stream",
     "text": [
      "1\n",
      "2\n",
      "[3, 4]\n"
     ]
    }
   ],
   "source": [
    "a, b, *rest = [1, 2, 3, 4]\n",
    "print(a)\n",
    "print(b)\n",
    "print(rest)"
   ]
  },
  {
   "cell_type": "markdown",
   "metadata": {},
   "source": [
    "还可将带星号的变量放在其他位置。"
   ]
  },
  {
   "cell_type": "code",
   "execution_count": 8,
   "metadata": {},
   "outputs": [
    {
     "name": "stdout",
     "output_type": "stream",
     "text": [
      "Albus\n",
      "['Percival', 'Wulfric', 'Brian']\n",
      "Dumbledore\n"
     ]
    }
   ],
   "source": [
    "name = \"Albus Percival Wulfric Brian Dumbledore\"\n",
    "first, *middle, last = name.split()\n",
    "print(first)\n",
    "print(middle)\n",
    "print(last)"
   ]
  },
  {
   "cell_type": "markdown",
   "metadata": {},
   "source": [
    "### 5.2.2 链式赋值"
   ]
  },
  {
   "cell_type": "code",
   "execution_count": 9,
   "metadata": {
    "pycharm": {
     "is_executing": false
    }
   },
   "outputs": [
    {
     "name": "stdout",
     "output_type": "stream",
     "text": [
      "3\n",
      "3\n"
     ]
    }
   ],
   "source": [
    "x = y = 3\n",
    "print(x)\n",
    "print(y)"
   ]
  },
  {
   "cell_type": "markdown",
   "metadata": {},
   "source": [
    "### 5.2.3 增强赋值"
   ]
  },
  {
   "cell_type": "code",
   "execution_count": 10,
   "metadata": {},
   "outputs": [
    {
     "name": "stdout",
     "output_type": "stream",
     "text": [
      "5\n",
      "10\n"
     ]
    }
   ],
   "source": [
    "x = 2\n",
    "x+=3 # x=x+3\n",
    "print(x)\n",
    "x*=2 # x=x*2\n",
    "print(x)"
   ]
  },
  {
   "cell_type": "markdown",
   "metadata": {},
   "source": [
    "# 5.3 代码块：缩进的乐趣"
   ]
  },
  {
   "cell_type": "markdown",
   "metadata": {},
   "source": [
    "标准python使用4个空格表示缩进"
   ]
  },
  {
   "cell_type": "markdown",
   "metadata": {},
   "source": [
    "# 5.4 条件和条件语句"
   ]
  },
  {
   "cell_type": "markdown",
   "metadata": {},
   "source": [
    "### 5.4.1 布尔值"
   ]
  },
  {
   "cell_type": "markdown",
   "metadata": {},
   "source": [
    "标准真值True，标准假值False\n",
    "\n",
    "用作布尔表达式时，False None 0 \"\" () [] {} 都被视为假，其他各种值都被视为真，包括True。"
   ]
  },
  {
   "cell_type": "code",
   "execution_count": 11,
   "metadata": {},
   "outputs": [
    {
     "name": "stdout",
     "output_type": "stream",
     "text": [
      "B\n",
      "A\n",
      "False\n",
      "False\n",
      "True\n",
      "True\n"
     ]
    }
   ],
   "source": [
    "if ([]):\n",
    "    print('A')\n",
    "else:\n",
    "    print('B')\n",
    "\n",
    "if ('su'):\n",
    "    print('A')\n",
    "else:\n",
    "    print('B') \n",
    "    \n",
    "print(bool([]))\n",
    "print(bool(''))\n",
    "print(bool(' '))\n",
    "print(bool([]) == bool(''))"
   ]
  },
  {
   "cell_type": "markdown",
   "metadata": {},
   "source": [
    "实际上，True和False不过是0和1的别名，虽 然看起来不同，但作用是相同的。"
   ]
  },
  {
   "cell_type": "code",
   "execution_count": 12,
   "metadata": {},
   "outputs": [
    {
     "name": "stdout",
     "output_type": "stream",
     "text": [
      "True\n",
      "True\n",
      "1\n",
      "0\n",
      "51\n"
     ]
    }
   ],
   "source": [
    "print(True == 1)\n",
    "print(False == 0)\n",
    "print(int(True))\n",
    "print(int(False))\n",
    "print(True+False+50)"
   ]
  },
  {
   "cell_type": "markdown",
   "metadata": {},
   "source": [
    "### 5.4.2 条件语句if"
   ]
  },
  {
   "cell_type": "code",
   "execution_count": 13,
   "metadata": {},
   "outputs": [
    {
     "name": "stdout",
     "output_type": "stream",
     "text": [
      "Hello, Mr. Gumby\n"
     ]
    }
   ],
   "source": [
    "name = 'Li Gumby' \n",
    "if name.endswith('Gumby'):\n",
    "    print('Hello, Mr. Gumby')"
   ]
  },
  {
   "cell_type": "markdown",
   "metadata": {},
   "source": [
    "### 5.4.3 else"
   ]
  },
  {
   "cell_type": "code",
   "execution_count": 14,
   "metadata": {},
   "outputs": [
    {
     "name": "stdout",
     "output_type": "stream",
     "text": [
      "haha\n"
     ]
    }
   ],
   "source": [
    "name = 'Li Bob'\n",
    "if name.endswith('Gumby'):\n",
    "    print('Hello, Mr. Gumby')\n",
    "else:\n",
    "    print('haha')"
   ]
  },
  {
   "cell_type": "markdown",
   "metadata": {},
   "source": [
    "条件表达式，类似其他语言中的三目运算符"
   ]
  },
  {
   "cell_type": "code",
   "execution_count": 15,
   "metadata": {},
   "outputs": [
    {
     "name": "stdout",
     "output_type": "stream",
     "text": [
      "stranger\n"
     ]
    }
   ],
   "source": [
    "name = 'Li Bob'\n",
    "status = \"friend\" if name.endswith(\"Gumby\") else \"stranger\"\n",
    "print(status)"
   ]
  },
  {
   "cell_type": "markdown",
   "metadata": {},
   "source": [
    "### 5.4.4 elif"
   ]
  },
  {
   "cell_type": "code",
   "execution_count": 16,
   "metadata": {},
   "outputs": [
    {
     "name": "stdout",
     "output_type": "stream",
     "text": [
      "The number is positive\n"
     ]
    }
   ],
   "source": [
    "num = 5\n",
    "if num > 0:\n",
    "    print('The number is positive') \n",
    "elif num < 0:\n",
    "    print('The number is negative') \n",
    "else:\n",
    "    print('The number is zero')"
   ]
  },
  {
   "cell_type": "markdown",
   "metadata": {},
   "source": [
    "### 5.4.5 代码块嵌套"
   ]
  },
  {
   "cell_type": "code",
   "execution_count": 17,
   "metadata": {},
   "outputs": [
    {
     "name": "stdout",
     "output_type": "stream",
     "text": [
      "Hello, stranger\n"
     ]
    }
   ],
   "source": [
    "name = 'Bob'\n",
    "if name.endswith('Gumby'):\n",
    "    if name.startswith('Mr.'): \n",
    "        print('Hello, Mr. Gumby') \n",
    "    elif name.startswith('Mrs.'):\n",
    "        print('Hello, Mrs. Gumby') \n",
    "    else:\n",
    "        print('Hello, Gumby') \n",
    "else:\n",
    "    print('Hello, stranger')"
   ]
  },
  {
   "cell_type": "markdown",
   "metadata": {},
   "source": [
    "### 5.4.6 更复杂的条件"
   ]
  },
  {
   "cell_type": "markdown",
   "metadata": {},
   "source": [
    "#### A.比较运算符"
   ]
  },
  {
   "cell_type": "markdown",
   "metadata": {},
   "source": [
    "x == y                 x 等于y\n",
    "\n",
    "x<y                    x小于y\n",
    "\n",
    "x>y                    x大于y\n",
    "\n",
    "x >= y                 x大于或等于y\n",
    "\n",
    "x <= y                 x小于或等于y\n",
    "\n",
    "x != y                 x不等于y\n",
    "\n",
    "x is y                 x和y是同一个对象\n",
    "\n",
    "x is not y             x和y是不同的对象\n",
    "\n",
    "x in y                 x是容器(如序列)y的成员\n",
    "\n",
    "x not in y             x不是容器(如序列)y的成员"
   ]
  },
  {
   "cell_type": "markdown",
   "metadata": {},
   "source": [
    "1.链式比较"
   ]
  },
  {
   "cell_type": "code",
   "execution_count": 18,
   "metadata": {},
   "outputs": [
    {
     "name": "stdout",
     "output_type": "stream",
     "text": [
      "True\n"
     ]
    }
   ],
   "source": [
    "a = 6\n",
    "print(0<a<8)"
   ]
  },
  {
   "cell_type": "markdown",
   "metadata": {},
   "source": [
    "2.== 和 is\n",
    "\n",
    "==表示相等，值相等；is表示相同，是同一个对象（在内存中是同一个）\n",
    "\n",
    "【警告】不要将is用于数和字符串等不可变的基本值。鉴于Python在内部处理这些对象的方式，这样做的结果是不可预测的。"
   ]
  },
  {
   "cell_type": "code",
   "execution_count": 19,
   "metadata": {},
   "outputs": [
    {
     "name": "stdout",
     "output_type": "stream",
     "text": [
      "True\n",
      "False\n"
     ]
    }
   ],
   "source": [
    "a = [1,2]\n",
    "b = [1,2]\n",
    "print(a==b)\n",
    "print(a is b)"
   ]
  },
  {
   "cell_type": "markdown",
   "metadata": {},
   "source": [
    "3.序列的比较大小"
   ]
  },
  {
   "cell_type": "markdown",
   "metadata": {},
   "source": [
    "字符串是根据字符的字母排列顺序进行比较的。从字符串的第一个字符开始比较，Unicode code point码大谁就大（可以用ord获取）。如果第一个相同，则比较第二个。以此类推。如果都相同则相等。"
   ]
  },
  {
   "cell_type": "code",
   "execution_count": 20,
   "metadata": {},
   "outputs": [
    {
     "name": "stdout",
     "output_type": "stream",
     "text": [
      "True\n"
     ]
    }
   ],
   "source": [
    "print(\"alpha\" < \"beta\")"
   ]
  },
  {
   "cell_type": "code",
   "execution_count": 21,
   "metadata": {},
   "outputs": [
    {
     "name": "stdout",
     "output_type": "stream",
     "text": [
      "100\n",
      "z\n"
     ]
    }
   ],
   "source": [
    "# 返回Unicode code point\n",
    "print(ord('d'))\n",
    "# 返回Unicode string    输入范围：0 <= i <= 0x10ffff.\n",
    "print(chr(122))"
   ]
  },
  {
   "cell_type": "markdown",
   "metadata": {},
   "source": [
    "列表和元组与字符串规则相同。"
   ]
  },
  {
   "cell_type": "markdown",
   "metadata": {},
   "source": [
    "#### B.布尔运算符"
   ]
  },
  {
   "cell_type": "markdown",
   "metadata": {},
   "source": [
    "and \n",
    "\n",
    "or \n",
    "\n",
    "not"
   ]
  },
  {
   "cell_type": "markdown",
   "metadata": {},
   "source": [
    "### 5.4.7 断言"
   ]
  },
  {
   "cell_type": "code",
   "execution_count": 22,
   "metadata": {},
   "outputs": [],
   "source": [
    "# if not condition: \n",
    "#     crash program"
   ]
  },
  {
   "cell_type": "code",
   "execution_count": 23,
   "metadata": {},
   "outputs": [],
   "source": [
    "age = 3\n",
    "assert 0 < age < 100, 'The age must be realistic'\n",
    "\n",
    "# 如果age范围不在0-100之间，则抛出异常\n",
    "# Traceback (most recent call last):\n",
    "#     File \"<stdin>\", line 1, in ? \n",
    "# AssertionError: The age must be realist"
   ]
  },
  {
   "cell_type": "markdown",
   "metadata": {},
   "source": [
    "# 5.5 循环"
   ]
  },
  {
   "cell_type": "markdown",
   "metadata": {},
   "source": [
    "while 和 for"
   ]
  },
  {
   "cell_type": "markdown",
   "metadata": {},
   "source": [
    "### 5.5.1 while"
   ]
  },
  {
   "cell_type": "code",
   "execution_count": 24,
   "metadata": {},
   "outputs": [
    {
     "name": "stdout",
     "output_type": "stream",
     "text": [
      "1 2 3 4 5 "
     ]
    }
   ],
   "source": [
    "x=1\n",
    "while x <= 5:\n",
    "    print(x,end=' ') \n",
    "    x += 1"
   ]
  },
  {
   "cell_type": "markdown",
   "metadata": {},
   "source": [
    "### 5.5.2 for"
   ]
  },
  {
   "cell_type": "code",
   "execution_count": 25,
   "metadata": {},
   "outputs": [
    {
     "name": "stdout",
     "output_type": "stream",
     "text": [
      "this is an ex parrot "
     ]
    }
   ],
   "source": [
    "words = ['this', 'is', 'an', 'ex', 'parrot']\n",
    "for word in words:\n",
    "    print(word,end=' ')"
   ]
  },
  {
   "cell_type": "markdown",
   "metadata": {},
   "source": [
    "使用range创建一个范围"
   ]
  },
  {
   "cell_type": "code",
   "execution_count": 54,
   "metadata": {},
   "outputs": [
    {
     "name": "stdout",
     "output_type": "stream",
     "text": [
      "<class 'range'>\n",
      "range(0, 10)\n",
      "[0, 1, 2, 3, 4, 5, 6, 7, 8, 9]\n",
      "(0, 1, 2, 3, 4, 5, 6, 7, 8, 9)\n",
      "[4, 5, 6, 7, 8, 9]\n",
      "[1, 3, 5, 7, 9]\n",
      "[10, 9, 8, 7, 6, 5, 4, 3, 2]\n"
     ]
    }
   ],
   "source": [
    "a = range(10)\n",
    "print(type(a))\n",
    "print(a)\n",
    "print(list(a))\n",
    "print(tuple(a))\n",
    "\n",
    "b = range(4,10)\n",
    "print(list(b))\n",
    "\n",
    "c = range(1,10,2)\n",
    "print(list(c))\n",
    "\n",
    "d = range(10,1,-1)\n",
    "print(list(d))"
   ]
  },
  {
   "cell_type": "code",
   "execution_count": 27,
   "metadata": {},
   "outputs": [
    {
     "name": "stdout",
     "output_type": "stream",
     "text": [
      "0 1 2 3 4 5 6 7 8 9 "
     ]
    }
   ],
   "source": [
    "for i in range(10):\n",
    "    print(i,end=\" \")"
   ]
  },
  {
   "cell_type": "markdown",
   "metadata": {},
   "source": [
    "【提示】只要能够使用for循环，就不要使用while循环。"
   ]
  },
  {
   "cell_type": "markdown",
   "metadata": {},
   "source": [
    "### 5.5.3 迭代字典"
   ]
  },
  {
   "cell_type": "code",
   "execution_count": 28,
   "metadata": {},
   "outputs": [
    {
     "name": "stdout",
     "output_type": "stream",
     "text": [
      "x corresponds to 1\n",
      "y corresponds to 2\n",
      "z corresponds to 3\n"
     ]
    }
   ],
   "source": [
    "d = {'x': 1, 'y': 2, 'z': 3} \n",
    "for key in d:\n",
    "    print(key, 'corresponds to', d[key])"
   ]
  },
  {
   "cell_type": "markdown",
   "metadata": {},
   "source": [
    "也可以使用 d.keys()  d.values()  d.items()"
   ]
  },
  {
   "cell_type": "code",
   "execution_count": 29,
   "metadata": {},
   "outputs": [
    {
     "name": "stdout",
     "output_type": "stream",
     "text": [
      "x corresponds to 1\n",
      "y corresponds to 2\n",
      "z corresponds to 3\n"
     ]
    }
   ],
   "source": [
    "for key, value in d.items():\n",
    "    print(key, 'corresponds to', value)"
   ]
  },
  {
   "cell_type": "markdown",
   "metadata": {},
   "source": [
    "### 5.5.4 一些迭代工具"
   ]
  },
  {
   "cell_type": "markdown",
   "metadata": {},
   "source": [
    "1.并行迭代 zip\n",
    "\n",
    "zip将两个序列“缝合”起来，并返回一个由元组组成的序列。返回值是一个适合迭代的对象。当序列的长度不同时，函数zip将 在最短的序列用完后停止“缝合”。"
   ]
  },
  {
   "cell_type": "code",
   "execution_count": 30,
   "metadata": {},
   "outputs": [
    {
     "name": "stdout",
     "output_type": "stream",
     "text": [
      "anne is 12 years old\n",
      "beth is 45 years old\n",
      "george is 32 years old\n",
      "damon is 102 years old\n",
      "---\n",
      "anne is 12 years old\n",
      "beth is 45 years old\n",
      "george is 32 years old\n",
      "damon is 102 years old\n"
     ]
    }
   ],
   "source": [
    "names = ['anne', 'beth', 'george', 'damon'] \n",
    "ages = [12, 45, 32, 102]\n",
    "\n",
    "# 常规迭代\n",
    "for i in range(len(names)):\n",
    "    print(names[i], 'is', ages[i], 'years old')\n",
    "\n",
    "print('---')\n",
    "\n",
    "# 使用zip并行迭代\n",
    "for name,age in zip(names,ages):\n",
    "    print(name, 'is', age, 'years old')"
   ]
  },
  {
   "cell_type": "markdown",
   "metadata": {},
   "source": [
    "zip的另一个应用：合并后打乱"
   ]
  },
  {
   "cell_type": "code",
   "execution_count": 31,
   "metadata": {},
   "outputs": [],
   "source": [
    "import random\n",
    "\n",
    "names = ['anne', 'beth', 'george', 'damon'] \n",
    "ages = [12, 45, 32, 102]\n",
    "names_ages = list(zip(names,ages))\n",
    "random.shuffle(names_ages)\n",
    "names,ages = zip(*names_ages)"
   ]
  },
  {
   "cell_type": "markdown",
   "metadata": {},
   "source": [
    "2.迭代时获取索引"
   ]
  },
  {
   "cell_type": "code",
   "execution_count": 37,
   "metadata": {},
   "outputs": [
    {
     "name": "stdout",
     "output_type": "stream",
     "text": [
      "['sun1', 'censored', 'sun3']\n"
     ]
    }
   ],
   "source": [
    "# 经典方法1\n",
    "strings = [\"sun1\",\"sun2xxx\",\"sun3\"]\n",
    "for string in strings:\n",
    "    if 'xxx' in string:\n",
    "        index = strings.index(string) # 在字符串列表中查找字符串 \n",
    "        strings[index] = 'censored'\n",
    "print(strings)\n",
    "\n",
    "# 经典方法2\n",
    "strings = [\"sun1\",\"sun2xxx\",\"sun3\"]\n",
    "index = 0\n",
    "for string in strings:\n",
    "    if 'xxx' in string: \n",
    "        strings[index] = 'censored'\n",
    "    index += 1\n",
    "print(strings)"
   ]
  },
  {
   "cell_type": "code",
   "execution_count": 44,
   "metadata": {},
   "outputs": [
    {
     "name": "stdout",
     "output_type": "stream",
     "text": [
      "['sun1', 'censored', 'sun3']\n"
     ]
    }
   ],
   "source": [
    "# 使用enumerate\n",
    "strings = [\"sun1\",\"sun2xxx\",\"sun3\"]\n",
    "for index, string in enumerate(strings): \n",
    "    if 'xxx' in string:\n",
    "        strings[index] = 'censored'\n",
    "print(strings)"
   ]
  },
  {
   "cell_type": "code",
   "execution_count": 45,
   "metadata": {},
   "outputs": [
    {
     "name": "stdout",
     "output_type": "stream",
     "text": [
      "['sun1', 'sun2xxx', 'sun3']\n"
     ]
    }
   ],
   "source": [
    "# 错误方法，不能正确替换，因为给string赋值没有改变strings里面的值\n",
    "strings = [\"sun1\",\"sun2xxx\",\"sun3\"]\n",
    "for string in enumerate(strings): \n",
    "    if 'xxx' in string:\n",
    "        string = 'censored'\n",
    "print(strings)"
   ]
  },
  {
   "cell_type": "markdown",
   "metadata": {},
   "source": [
    "3.反向迭代和排序后再迭代"
   ]
  },
  {
   "cell_type": "markdown",
   "metadata": {},
   "source": [
    "reversed和sorted，类似于列表方法reverse和sort\n",
    "\n",
    "注意，sorted返回一个列表，而reversed像zip那样返回一个更神秘的可迭代对象"
   ]
  },
  {
   "cell_type": "code",
   "execution_count": 48,
   "metadata": {},
   "outputs": [
    {
     "name": "stdout",
     "output_type": "stream",
     "text": [
      "[3, 3, 4, 6, 8]\n"
     ]
    }
   ],
   "source": [
    "a = sorted([4, 3, 6, 8, 3])\n",
    "print(a)"
   ]
  },
  {
   "cell_type": "code",
   "execution_count": 50,
   "metadata": {},
   "outputs": [
    {
     "name": "stdout",
     "output_type": "stream",
     "text": [
      "[3, 8, 6, 3, 4]\n"
     ]
    }
   ],
   "source": [
    "a = list(reversed([4, 3, 6, 8, 3]))\n",
    "print(a)"
   ]
  },
  {
   "cell_type": "markdown",
   "metadata": {},
   "source": [
    "### 5.5.5 跳出循环"
   ]
  },
  {
   "cell_type": "markdown",
   "metadata": {},
   "source": [
    "1.break 结束整个循环"
   ]
  },
  {
   "cell_type": "code",
   "execution_count": 52,
   "metadata": {},
   "outputs": [
    {
     "name": "stdout",
     "output_type": "stream",
     "text": [
      "81\n"
     ]
    }
   ],
   "source": [
    "from math import sqrt\n",
    "for n in range(99, 0, -1):\n",
    "    root = sqrt(n)\n",
    "    if root == int(root):\n",
    "        print(n)\n",
    "        break"
   ]
  },
  {
   "cell_type": "markdown",
   "metadata": {},
   "source": [
    "与while True配合使用"
   ]
  },
  {
   "cell_type": "code",
   "execution_count": 57,
   "metadata": {},
   "outputs": [
    {
     "name": "stdout",
     "output_type": "stream",
     "text": [
      "Please enter a word: s\n",
      "The word was  s\n",
      "Please enter a word: f\n",
      "The word was  f\n",
      "Please enter a word: \n"
     ]
    }
   ],
   "source": [
    "while True:\n",
    "    word = input('Please enter a word: ') \n",
    "    if not word: break\n",
    "    # 使用这个单词做些事情:\n",
    "    print('The word was ', word)"
   ]
  },
  {
   "cell_type": "markdown",
   "metadata": {},
   "source": [
    "2.continue 结束本次迭代，进入下一次迭代"
   ]
  },
  {
   "cell_type": "code",
   "execution_count": 58,
   "metadata": {},
   "outputs": [
    {
     "name": "stdout",
     "output_type": "stream",
     "text": [
      "0 1 2 3 4 5 7 8 9 "
     ]
    }
   ],
   "source": [
    "for i in range(10):\n",
    "    if i == 6:\n",
    "        continue\n",
    "    print(i,end=' ')"
   ]
  },
  {
   "cell_type": "markdown",
   "metadata": {},
   "source": [
    "### 5.5.6 循环中的else子句"
   ]
  },
  {
   "cell_type": "code",
   "execution_count": 60,
   "metadata": {},
   "outputs": [],
   "source": [
    "# 常规方法\n",
    "# broke_out = False \n",
    "# for x in seq:\n",
    "#     do_something(x) \n",
    "#     if condition(x):\n",
    "#         broke_out = True\n",
    "#         break \n",
    "#     do_something_else(x)\n",
    "# if not broke_out:\n",
    "#     print(\"I didn't break out!\")"
   ]
  },
  {
   "cell_type": "markdown",
   "metadata": {},
   "source": [
    "一种更简单的办法是在循环中添加一条else子句，它仅在没有调用break时才执行。继续前 面讨论break时的示例。"
   ]
  },
  {
   "cell_type": "code",
   "execution_count": 63,
   "metadata": {},
   "outputs": [
    {
     "name": "stdout",
     "output_type": "stream",
     "text": [
      "81\n"
     ]
    }
   ],
   "source": [
    "from math import sqrt\n",
    "for n in range(99, 1, -1):\n",
    "    root = sqrt(n)\n",
    "    if root == int(root):\n",
    "        print(n)\n",
    "        break \n",
    "else:\n",
    "    print(\"Didn't find it!\")"
   ]
  },
  {
   "cell_type": "markdown",
   "metadata": {},
   "source": [
    "无论是 在for循环还是while循环中，都可使用continue、break和else子句。"
   ]
  },
  {
   "cell_type": "markdown",
   "metadata": {},
   "source": [
    "# 5.6 简单推导"
   ]
  },
  {
   "cell_type": "markdown",
   "metadata": {},
   "source": [
    "列表推导是一种从其他列表创建列表的方式，类似于数学中的集合推导。列表推导的工作原 理非常简单，有点类似于for循环。"
   ]
  },
  {
   "cell_type": "code",
   "execution_count": 67,
   "metadata": {},
   "outputs": [
    {
     "name": "stdout",
     "output_type": "stream",
     "text": [
      "[0, 3, 6, 9, 12, 15, 18, 21, 24, 27]\n"
     ]
    }
   ],
   "source": [
    "a = [x * 3 for x in range(10)]\n",
    "print(a)"
   ]
  },
  {
   "cell_type": "markdown",
   "metadata": {},
   "source": [
    "带if"
   ]
  },
  {
   "cell_type": "code",
   "execution_count": 71,
   "metadata": {},
   "outputs": [
    {
     "name": "stdout",
     "output_type": "stream",
     "text": [
      "[0, 9, 36, 81]\n"
     ]
    }
   ],
   "source": [
    "a = [x*x for x in range(10) if x%3 == 0]\n",
    "print(a)"
   ]
  },
  {
   "cell_type": "markdown",
   "metadata": {},
   "source": [
    "多个for"
   ]
  },
  {
   "cell_type": "code",
   "execution_count": 72,
   "metadata": {},
   "outputs": [
    {
     "name": "stdout",
     "output_type": "stream",
     "text": [
      "[(0, 0), (0, 1), (0, 2), (1, 0), (1, 1), (1, 2), (2, 0), (2, 1), (2, 2)]\n"
     ]
    }
   ],
   "source": [
    "# 常规方法\n",
    "# result = []\n",
    "# for x in range(3):\n",
    "#     for y in range(3) \n",
    "#         result.append((x, y))\n",
    "\n",
    "a = [(x, y) for x in range(3) for y in range(3)]\n",
    "print(a)"
   ]
  },
  {
   "cell_type": "markdown",
   "metadata": {},
   "source": [
    "多个for带if"
   ]
  },
  {
   "cell_type": "code",
   "execution_count": 74,
   "metadata": {},
   "outputs": [
    {
     "name": "stdout",
     "output_type": "stream",
     "text": [
      "['chris+clarice', 'arnold+alice', 'bob+bernice']\n"
     ]
    }
   ],
   "source": [
    "girls = ['alice', 'bernice', 'clarice']\n",
    "boys = ['chris', 'arnold', 'bob']\n",
    "print([b+'+'+g for b in boys for g in girls if b[0] == g[0]])"
   ]
  },
  {
   "cell_type": "markdown",
   "metadata": {},
   "source": [
    "效率更高的方法"
   ]
  },
  {
   "cell_type": "code",
   "execution_count": 75,
   "metadata": {},
   "outputs": [
    {
     "name": "stdout",
     "output_type": "stream",
     "text": [
      "['chris+clarice', 'arnold+alice', 'bob+bernice']\n"
     ]
    }
   ],
   "source": [
    "girls = ['alice', 'bernice', 'clarice'] \n",
    "boys = ['chris', 'arnold', 'bob'] \n",
    "letterGirls = {}\n",
    "for girl in girls:\n",
    "    letterGirls.setdefault(girl[0], []).append(girl) \n",
    "print([b+'+'+g for b in boys for g in letterGirls[b[0]]])"
   ]
  },
  {
   "cell_type": "markdown",
   "metadata": {},
   "source": [
    "使用圆括号代替方括号并不能实现元组推导，而是将创建【生成器】。然而，可使用花括号来执行【字典推导】。"
   ]
  },
  {
   "cell_type": "code",
   "execution_count": 77,
   "metadata": {},
   "outputs": [
    {
     "name": "stdout",
     "output_type": "stream",
     "text": [
      "{0: '0 squared is 0', 1: '1 squared is 1', 2: '2 squared is 4', 3: '3 squared is 9', 4: '4 squared is 16', 5: '5 squared is 25', 6: '6 squared is 36', 7: '7 squared is 49', 8: '8 squared is 64', 9: '9 squared is 81'}\n"
     ]
    }
   ],
   "source": [
    "squares = {i:\"{} squared is {}\".format(i, i**2) for i in range(10)}\n",
    "print(squares)"
   ]
  },
  {
   "cell_type": "markdown",
   "metadata": {},
   "source": [
    "在列表推导中，for前面只有一个表达式，而在字典推导中，for前面有两个用冒号分隔的表 达式。这两个表达式分别为键及其对应的值。"
   ]
  },
  {
   "cell_type": "markdown",
   "metadata": {},
   "source": [
    "# 5.7 pass del exec"
   ]
  },
  {
   "cell_type": "markdown",
   "metadata": {},
   "source": [
    "### 5.7.1 pass"
   ]
  },
  {
   "cell_type": "markdown",
   "metadata": {},
   "source": [
    "用作占位符"
   ]
  },
  {
   "cell_type": "code",
   "execution_count": 80,
   "metadata": {},
   "outputs": [],
   "source": [
    "if 1 + 2 == 3:\n",
    "    # todo...\n",
    "    pass\n",
    "    # 如果不加的话这个代码不能运行，因为python中代码块不能为空    "
   ]
  },
  {
   "cell_type": "markdown",
   "metadata": {},
   "source": [
    "### 5.7.2 del"
   ]
  },
  {
   "cell_type": "code",
   "execution_count": 83,
   "metadata": {},
   "outputs": [
    {
     "name": "stdout",
     "output_type": "stream",
     "text": [
      "{'a': 1, 'b': 2, 'c': 3}\n",
      "None\n"
     ]
    }
   ],
   "source": [
    "a = {'a':1,'b':2,'c':3}\n",
    "print(a)\n",
    "a = None\n",
    "print(a)"
   ]
  },
  {
   "cell_type": "markdown",
   "metadata": {},
   "source": [
    "上面的代码中给a赋值None后，这个字典就漂浮在计算机内存中，没有任何名称与之关联，再也无法获取或使用它了，然后python解释器会将它删除。这被称为【垃圾回收】。"
   ]
  },
  {
   "cell_type": "markdown",
   "metadata": {},
   "source": [
    "另一种方法是使用del语句，它会删除名称到对象的引用（或者说是连接）和名称，然后python解释器将它删除。"
   ]
  },
  {
   "cell_type": "code",
   "execution_count": 85,
   "metadata": {},
   "outputs": [
    {
     "name": "stdout",
     "output_type": "stream",
     "text": [
      "{'a': 1, 'b': 2, 'c': 3}\n"
     ]
    }
   ],
   "source": [
    "a = {'a':1,'b':2,'c':3}\n",
    "print(a)\n",
    "del a\n",
    "# print(a) 会报错，因为已经删除\n",
    "# NameError: name 'a' is not defined"
   ]
  },
  {
   "cell_type": "markdown",
   "metadata": {},
   "source": [
    "当内存中的值还有其他引用时，不会被回收"
   ]
  },
  {
   "cell_type": "code",
   "execution_count": 89,
   "metadata": {},
   "outputs": [
    {
     "name": "stdout",
     "output_type": "stream",
     "text": [
      "['Hello', 'Python']\n",
      "['Hello', 'Python']\n",
      "['Hello', 'Python']\n"
     ]
    }
   ],
   "source": [
    "x = [\"Hello\", \"world\"]\n",
    "y = x\n",
    "y[1] = \"Python\"\n",
    "print(x)\n",
    "print(y)\n",
    "del x\n",
    "# print(x) #会报错，因为已经删除\n",
    "print(y)"
   ]
  },
  {
   "cell_type": "markdown",
   "metadata": {},
   "source": [
    "### 5.7.3 使用exec和eval执行字符串及计算其结果"
   ]
  },
  {
   "cell_type": "markdown",
   "metadata": {},
   "source": [
    "目的：动态地编写Python代码，并将其作为语句进行执行或作为表达式进行计算\n",
    "\n",
    "【警告】本节介绍如何执行存储在字符串中的Python代码，这样做可能带来严重的安全隐患"
   ]
  },
  {
   "cell_type": "markdown",
   "metadata": {},
   "source": [
    "1.exec"
   ]
  },
  {
   "cell_type": "code",
   "execution_count": 92,
   "metadata": {},
   "outputs": [
    {
     "name": "stdout",
     "output_type": "stream",
     "text": [
      "Hello, world!\n"
     ]
    }
   ],
   "source": [
    "exec(\"print('Hello, world!')\")"
   ]
  },
  {
   "cell_type": "markdown",
   "metadata": {},
   "source": [
    "调用函数exec时只给它提供一个参数绝非好事。在大多数情况下，还应向它传递一个【命名空间】——用于放置变量的地方;否则代码将污染你的命名空间，即修改你的变量。"
   ]
  },
  {
   "cell_type": "code",
   "execution_count": 98,
   "metadata": {},
   "outputs": [],
   "source": [
    "# 会报错\n",
    "# from math import sqrt\n",
    "# exec(\"sqrt = 1\")\n",
    "# sqrt(4)\n",
    "\n",
    "# TypeError  Traceback (most recent call last)\n",
    "# <ipython-input-93-e5195e7a2096> in <module>\n",
    "#       1 from math import sqrt\n",
    "#       2 exec(\"sqrt = 1\")\n",
    "# ----> 3 sqrt(4)\n",
    "\n",
    "# TypeError: 'int' object is not callable"
   ]
  },
  {
   "cell_type": "code",
   "execution_count": 106,
   "metadata": {},
   "outputs": [
    {
     "name": "stdout",
     "output_type": "stream",
     "text": [
      "2.0\n",
      "1\n",
      "2\n",
      "dict_keys(['__builtins__', 'sqrt'])\n"
     ]
    }
   ],
   "source": [
    "# 正确示例：添加第二个参数——字典，用作代码字符串的命名空间\n",
    "from math import sqrt\n",
    "scope = {}\n",
    "exec('sqrt = 1', scope)\n",
    "print(sqrt(4))\n",
    "print(scope.get('sqrt'))\n",
    "print(len(scope))\n",
    "print(scope.keys())\n",
    "# __builtins__是包含所有内置函数和值的字典"
   ]
  },
  {
   "cell_type": "markdown",
   "metadata": {},
   "source": [
    "2.eval"
   ]
  },
  {
   "cell_type": "markdown",
   "metadata": {},
   "source": [
    "exec什么都不返回，因为它本身是条语句\n",
    "\n",
    "eval计算并返回用字符串表示的Python表达式的值"
   ]
  },
  {
   "cell_type": "code",
   "execution_count": 109,
   "metadata": {},
   "outputs": [
    {
     "name": "stdout",
     "output_type": "stream",
     "text": [
      "None\n",
      "2\n"
     ]
    }
   ],
   "source": [
    "print(exec(\"1+1\"))\n",
    "print(eval(\"1+1\"))"
   ]
  },
  {
   "cell_type": "markdown",
   "metadata": {},
   "source": [
    "与exec一样，也可向eval提供一个命名空间，虽然表达式通常不会像语句那样给变量重新 赋值。"
   ]
  },
  {
   "cell_type": "markdown",
   "metadata": {},
   "source": [
    "【警告】虽然表达式通常不会给变量重新赋值，但绝对能够这样做，如调用给全局变量重新赋值 的函数。因此，将eval用于不可信任的代码并不比使用exec安全。当前，在Python中执行 不可信任的代码时，没有安全的办法。一种替代解决方案是使用Jython(参见第17章)等 Python实现，以使用Java沙箱等原生机制。"
   ]
  },
  {
   "cell_type": "code",
   "execution_count": null,
   "metadata": {},
   "outputs": [],
   "source": []
  }
 ],
 "metadata": {
  "kernelspec": {
   "display_name": "Python 3",
   "language": "python",
   "name": "python3"
  },
  "language_info": {
   "codemirror_mode": {
    "name": "ipython",
    "version": 3
   },
   "file_extension": ".py",
   "mimetype": "text/x-python",
   "name": "python",
   "nbconvert_exporter": "python",
   "pygments_lexer": "ipython3",
   "version": "3.7.6"
  },
  "pycharm": {
   "stem_cell": {
    "cell_type": "raw",
    "metadata": {
     "collapsed": false
    },
    "source": []
   }
  }
 },
 "nbformat": 4,
 "nbformat_minor": 4
}
