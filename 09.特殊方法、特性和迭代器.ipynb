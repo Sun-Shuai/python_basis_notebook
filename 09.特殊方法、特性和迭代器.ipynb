{
 "cells": [
  {
   "cell_type": "markdown",
   "metadata": {},
   "source": [
    "# 9.1 特殊方法"
   ]
  },
  {
   "cell_type": "markdown",
   "metadata": {},
   "source": [
    "开头和结尾都是两个下划线的方法，如\\_\\_future\\_\\_，\\_\\_init\\_\\_"
   ]
  },
  {
   "cell_type": "markdown",
   "metadata": {},
   "source": [
    "# 9.2 构造函数"
   ]
  },
  {
   "cell_type": "markdown",
   "metadata": {},
   "source": [
    "属于特殊方法，命名为\\_\\_init\\_\\_，构造函数不同于普通方法的地方在于，将在对象创建后自动调用它们。"
   ]
  },
  {
   "cell_type": "code",
   "execution_count": 1,
   "metadata": {},
   "outputs": [
    {
     "name": "stdout",
     "output_type": "stream",
     "text": [
      "42\n"
     ]
    }
   ],
   "source": [
    "class FooBar:\n",
    "    def __init__(self):\n",
    "        self.somevar = 42\n",
    "f = FooBar()\n",
    "print(f.somevar)"
   ]
  },
  {
   "cell_type": "code",
   "execution_count": 5,
   "metadata": {},
   "outputs": [
    {
     "name": "stdout",
     "output_type": "stream",
     "text": [
      "hello\n",
      "42\n"
     ]
    }
   ],
   "source": [
    "class FooBar:\n",
    "    def __init__(self, value=42):\n",
    "        self.somevar = value\n",
    "f = FooBar('hello')\n",
    "print(f.somevar)\n",
    "# value是可选的\n",
    "f = FooBar()\n",
    "print(f.somevar)"
   ]
  },
  {
   "cell_type": "code",
   "execution_count": 8,
   "metadata": {},
   "outputs": [
    {
     "name": "stdout",
     "output_type": "stream",
     "text": [
      "hello\n"
     ]
    }
   ],
   "source": [
    "class FooBar:\n",
    "    def __init__(self, value):\n",
    "        self.somevar = value\n",
    "f = FooBar('hello')\n",
    "print(f.somevar)"
   ]
  },
  {
   "cell_type": "markdown",
   "metadata": {},
   "source": [
    "【注】Python提供了魔法方法__del__，也称作析构函数(destructor)。这个方法在对象被销毁 (作为垃圾被收集)前被调用，但鉴于你无法知道准确的调用时间，建议尽可能不要使用\\_\\_del\\_\\_。"
   ]
  },
  {
   "cell_type": "markdown",
   "metadata": {},
   "source": [
    "### 9.2.1 重写普通方法和特殊的构造函数"
   ]
  },
  {
   "cell_type": "markdown",
   "metadata": {},
   "source": [
    "继承中，每个类都有一个或多个超类，并从它们那里继承行为。对类B的实例调用方法(或访问其属性)时，如果找不到该方法(或属性)，将在其超类A中查找。"
   ]
  },
  {
   "cell_type": "code",
   "execution_count": 9,
   "metadata": {},
   "outputs": [
    {
     "name": "stdout",
     "output_type": "stream",
     "text": [
      "Hello, I'm A.\n",
      "Hello, I'm A.\n"
     ]
    }
   ],
   "source": [
    "class A:\n",
    "    def hello(self):\n",
    "        print(\"Hello, I'm A.\")\n",
    "class B(A): \n",
    "    pass\n",
    "\n",
    "a = A()\n",
    "b = B()\n",
    "a.hello()\n",
    "b.hello()"
   ]
  },
  {
   "cell_type": "markdown",
   "metadata": {},
   "source": [
    "重写超类中的普通方法"
   ]
  },
  {
   "cell_type": "code",
   "execution_count": 11,
   "metadata": {},
   "outputs": [
    {
     "name": "stdout",
     "output_type": "stream",
     "text": [
      "Hello, I'm A.\n",
      "Hello, I'm B.\n"
     ]
    }
   ],
   "source": [
    "class A:\n",
    "    def hello(self):\n",
    "        print(\"Hello, I'm A.\")\n",
    "class B(A):\n",
    "    def hello(self):\n",
    "        print(\"Hello, I'm B.\")\n",
    "\n",
    "a = A()\n",
    "b = B()\n",
    "a.hello()\n",
    "b.hello()"
   ]
  },
  {
   "cell_type": "markdown",
   "metadata": {},
   "source": [
    "重写超类中的构造方法"
   ]
  },
  {
   "cell_type": "markdown",
   "metadata": {},
   "source": [
    "对大多数子类来说，除超类的初始化代码外，还需要有自己的初始化代码。虽然所有 方法的重写机制都相同，但与重写普通方法相比，重写构造函数时更有可能遇到一个特别的问题: 重写构造函数时，必须调用超类(继承的类)的构造函数，否则可能无法正确地初始化对象。有两种方法:1.调用未关联的超类构造函数（旧版本），2.使用函数super（新版本）。"
   ]
  },
  {
   "cell_type": "markdown",
   "metadata": {},
   "source": [
    "### 9.2.2 调用未关联的超类构造函数"
   ]
  },
  {
   "cell_type": "code",
   "execution_count": 14,
   "metadata": {},
   "outputs": [],
   "source": [
    "class Bird:\n",
    "    def __init__(self):\n",
    "        self.hungry = True \n",
    "    def eat(self):\n",
    "        if self.hungry: \n",
    "            print('Aaaah ...') \n",
    "            self.hungry = False\n",
    "        else:\n",
    "            print('No, thanks!')\n",
    "    \n",
    "class SongBird(Bird): \n",
    "    def __init__(self):\n",
    "        Bird.__init__(self)  # 这里\n",
    "        self.sound = 'Squawk!' \n",
    "    def sing(self):\n",
    "        print(self.sound)"
   ]
  },
  {
   "cell_type": "markdown",
   "metadata": {},
   "source": [
    "### 9.2.3 使用函数 super"
   ]
  },
  {
   "cell_type": "code",
   "execution_count": 16,
   "metadata": {},
   "outputs": [],
   "source": [
    "class Bird:\n",
    "    def __init__(self):\n",
    "        self.hungry = True \n",
    "    def eat(self):\n",
    "        if self.hungry: \n",
    "            print('Aaaah ...') \n",
    "            self.hungry = False\n",
    "        else:\n",
    "            print('No, thanks!')\n",
    "    \n",
    "class SongBird(Bird): \n",
    "    def __init__(self):\n",
    "        super.__init__()  # 这里\n",
    "        self.sound = 'Squawk!' \n",
    "    def sing(self):\n",
    "        print(self.sound)"
   ]
  },
  {
   "cell_type": "markdown",
   "metadata": {},
   "source": [
    "函数super很聪明，因此即便有多个超类，也只需调用函数super一次(条件是所有超类的构造函数也使用函数super)。"
   ]
  },
  {
   "cell_type": "markdown",
   "metadata": {},
   "source": [
    "# 9.3 元素访问"
   ]
  },
  {
   "cell_type": "markdown",
   "metadata": {},
   "source": [
    "让你的自定义类可以像序列或映射那样使用"
   ]
  },
  {
   "cell_type": "markdown",
   "metadata": {},
   "source": [
    "### 9.3.1 基本的序列和映射协议"
   ]
  },
  {
   "cell_type": "markdown",
   "metadata": {},
   "source": [
    "序列和映射基本上是元素(item)的集合，要实现它们的基本行为(协议)，不可变对象需要实现下面的前2个方法，而可变对象需要实现下面的4个。"
   ]
  },
  {
   "cell_type": "markdown",
   "metadata": {},
   "source": [
    "- __len__(self):这个方法应返回集合包含的项数，对序列来说为元素个数，对映射来说为键-值对数。如果__len__返回零(且没有实现覆盖这种行为的__nonzero__)，对象在布尔上下文中将被视为假(就像空的列表、元组、字符串和字典一样)。\n",
    "\n",
    "- __getitem__(self, key):这个方法应返回与指定键相关联的值。对序列来说，键应该是 0~n-1 的整数(也可以是负数，这将在后面说明)，其中n为序列的长度。对映射来说，键可以是任何类型。\n",
    "\n",
    "- __setitem__(self, key, value):这个方法应以与键相关联的方式存储值，以便以后能够使用__getitem__来获取。当然，仅当对象可变时才需要实现这个方法。\n",
    "\n",
    "- __delitem__(self, key):这个方法在对对象的组成部分使用__del__语句时被调用，应删除与key相关联的值。同样，仅当对象可变(且允许其项被删除)时，才需要实现这个方法。"
   ]
  },
  {
   "cell_type": "markdown",
   "metadata": {},
   "source": [
    "对于这些方法，还有一些额外的要求。\n",
    "\n",
    "- 对于序列，如果键为负整数，应从末尾往前数。换而言之，x[-n]应与x[len(x)-n]等效。 \n",
    "\n",
    "- 如果键的类型不合适(如对序列使用字符串键)，可能引发TypeError异常。\n",
    "\n",
    "- 对于序列，如果索引的类型是正确的，但不在允许的范围内，应引发IndexError异常。"
   ]
  },
  {
   "cell_type": "markdown",
   "metadata": {},
   "source": [
    "### 9.3.2 从list、dict、str派生"
   ]
  },
  {
   "cell_type": "markdown",
   "metadata": {},
   "source": [
    "基本的序列/映射协议指定的4个方法能够让你走很远，但序列还有很多其他有用的魔法方法和普通方法，其中包括方法__iter__。要实现所有这些方法，不仅工作量大，而且难度不小。如果只想定制某种操作的行为，就没有理由去重新实现其他所有方法。而是使用【继承】。"
   ]
  },
  {
   "cell_type": "markdown",
   "metadata": {},
   "source": [
    "# 9.4 特性"
   ]
  },
  {
   "cell_type": "markdown",
   "metadata": {},
   "source": [
    "### 9.4.1 函数 property"
   ]
  },
  {
   "cell_type": "markdown",
   "metadata": {},
   "source": [
    "针对类中有关联的属性，使用property减少重复的set、get代码"
   ]
  },
  {
   "cell_type": "code",
   "execution_count": 27,
   "metadata": {},
   "outputs": [
    {
     "name": "stdout",
     "output_type": "stream",
     "text": [
      "(1, 2)\n",
      "1\n",
      "2\n",
      "(1, 2)\n"
     ]
    }
   ],
   "source": [
    "class Rectangle:\n",
    "    def __init__(self):\n",
    "        self.width = 0\n",
    "        self.height = 0\n",
    "    def set_size(self, size):\n",
    "        self.width, self.height = size \n",
    "    def get_size(self):\n",
    "        return self.width, self.height\n",
    "    size = property(get_size, set_size)\n",
    "    \n",
    "r = Rectangle()\n",
    "r.set_size((1,2))\n",
    "print(r.get_size())\n",
    "print(r.width)\n",
    "print(r.height)\n",
    "print(r.size)"
   ]
  },
  {
   "cell_type": "markdown",
   "metadata": {},
   "source": [
    "### 9.4.2 静态方法和类方法"
   ]
  },
  {
   "cell_type": "markdown",
   "metadata": {},
   "source": [
    "静态方法的定义中没有参数self，可直接通过类来调用。类方法的定义中包含类似于self的参数，通常被命名为cls。对于类方法，也可通过对象直接调用，但参数cls将自动关联到类。"
   ]
  },
  {
   "cell_type": "markdown",
   "metadata": {},
   "source": [
    "Python 2.4 之前"
   ]
  },
  {
   "cell_type": "code",
   "execution_count": 29,
   "metadata": {},
   "outputs": [],
   "source": [
    "class MyClass:\n",
    "    def smeth():\n",
    "        print(\"This is a static method\")\n",
    "    smeth = staticmethod(smeth)\n",
    "    \n",
    "    def cmeth(cls):\n",
    "        print(\"This is a class method of\",cls)\n",
    "    cmeth = classmethod(cmeth)"
   ]
  },
  {
   "cell_type": "markdown",
   "metadata": {},
   "source": [
    "像这样手工包装和替换方法有点繁琐。在Python 2.4中，引入了一种名为【装饰器】的新语法"
   ]
  },
  {
   "cell_type": "code",
   "execution_count": 32,
   "metadata": {},
   "outputs": [],
   "source": [
    "class MyClass:\n",
    "    @staticmethod \n",
    "    def smeth():\n",
    "        print('This is a static method')\n",
    "    @classmethod\n",
    "    def cmeth(cls):\n",
    "        print('This is a class method of', cls)"
   ]
  },
  {
   "cell_type": "markdown",
   "metadata": {},
   "source": [
    "定义这些方法后，就可像下面这样使用它们(无需实例化类):"
   ]
  },
  {
   "cell_type": "code",
   "execution_count": 33,
   "metadata": {},
   "outputs": [
    {
     "name": "stdout",
     "output_type": "stream",
     "text": [
      "This is a static method\n",
      "This is a class method of <class '__main__.MyClass'>\n"
     ]
    }
   ],
   "source": [
    "MyClass.smeth()\n",
    "MyClass.cmeth()"
   ]
  },
  {
   "cell_type": "markdown",
   "metadata": {},
   "source": [
    "### 9.4.3 __getattr__、__setattr__等方法"
   ]
  },
  {
   "cell_type": "markdown",
   "metadata": {},
   "source": [
    "- __getattribute__(self, name):在属性被访问时自动调用(只适用于新式类)。 \n",
    "\n",
    "- __getattr__(self, name):在属性被访问而对象没有这样的属性时自动调用。\n",
    "\n",
    "- __setattr__(self, name, value):试图给属性赋值时自动调用。 \n",
    "\n",
    "- __delattr__(self, name):试图删除属性时自动调用。"
   ]
  },
  {
   "cell_type": "markdown",
   "metadata": {},
   "source": [
    "# 9.5 迭代器"
   ]
  },
  {
   "cell_type": "markdown",
   "metadata": {},
   "source": [
    "魔法方法\\_\\_iter\\_\\_是迭代器协议的基础。"
   ]
  },
  {
   "cell_type": "markdown",
   "metadata": {},
   "source": [
    "### 9.5.1 迭代器协议"
   ]
  },
  {
   "cell_type": "markdown",
   "metadata": {},
   "source": [
    "迭代(iterate)意味着重复多次，就像循环那样。前面只使用for循环迭代过序列和字典，但实际上也可迭代其他对象:实现了方法\\_\\_iter\\_\\_的对象。方法\\_\\_iter\\_\\_返回一个迭代器，它是包含方法\\_\\_next\\_\\_的对象，而调用这个方法时可不提供任何参数。"
   ]
  },
  {
   "cell_type": "markdown",
   "metadata": {},
   "source": [
    "这有什么意义呢?为何不使用列表呢?因为在很多情况下，使用列表都有点像用大炮打蚊 子。例如，如果你有一个可逐个计算值的函数，你可能只想逐个地获取值，而不是使用列表一次 性获取。这是因为如果有很多值，列表可能占用太多的内存。但还有其他原因:使用迭代器更通用、更简单、更优雅。下面来看一个不能使用列表的示例，因为如果使用，这个列表的长度必须是无穷大的!"
   ]
  },
  {
   "cell_type": "code",
   "execution_count": 2,
   "metadata": {},
   "outputs": [],
   "source": [
    "# 斐波那契数列的迭代器\n",
    "class Fibs:\n",
    "    def __init__(self):\n",
    "        self.a = 0\n",
    "        self.b = 1\n",
    "    def __next__(self):\n",
    "        self.a, self.b = self.b, self.a + self.b\n",
    "        return self.a \n",
    "    def __iter__(self):\n",
    "        print(self)\n",
    "        return self\n"
   ]
  },
  {
   "cell_type": "markdown",
   "metadata": {},
   "source": [
    "【注】更正规的定义是，实现了方法\\_\\_iter\\_\\_的对象是可迭代的，而实现了方法\\_\\_next\\_\\_的对象是迭代器。"
   ]
  },
  {
   "cell_type": "code",
   "execution_count": 3,
   "metadata": {},
   "outputs": [
    {
     "name": "stdout",
     "output_type": "stream",
     "text": [
      "<__main__.Fibs object at 0x104c95310>\n",
      "13\n"
     ]
    }
   ],
   "source": [
    "fibs = Fibs()\n",
    "for f in fibs:\n",
    "    if f > 10:\n",
    "        print(f)\n",
    "        break"
   ]
  },
  {
   "cell_type": "markdown",
   "metadata": {},
   "source": [
    "【提示】通过对可迭代对象调用内置函数iter，可获得一个迭代器。"
   ]
  },
  {
   "cell_type": "code",
   "execution_count": 5,
   "metadata": {},
   "outputs": [
    {
     "name": "stdout",
     "output_type": "stream",
     "text": [
      "<class 'list_iterator'>\n",
      "<list_iterator object at 0x106c94bd0>\n",
      "1\n",
      "2\n"
     ]
    }
   ],
   "source": [
    "it = iter([1,2,3])\n",
    "print(type(it))\n",
    "print(it)\n",
    "print(next(it))\n",
    "print(next(it))"
   ]
  },
  {
   "cell_type": "markdown",
   "metadata": {},
   "source": [
    "### 9.5.2 从迭代器创建序列"
   ]
  },
  {
   "cell_type": "markdown",
   "metadata": {},
   "source": [
    "使用构造函数list显式地将迭代器转换为列表"
   ]
  },
  {
   "cell_type": "code",
   "execution_count": 12,
   "metadata": {},
   "outputs": [
    {
     "name": "stdout",
     "output_type": "stream",
     "text": [
      "[1, 2, 3]\n",
      "---\n",
      "1\n",
      "[2, 3]\n",
      "---\n",
      "1\n",
      "2\n",
      "[3]\n"
     ]
    }
   ],
   "source": [
    "it = iter([1,2,3])\n",
    "print(list(it))\n",
    "\n",
    "print(\"---\")\n",
    "\n",
    "it = iter([1,2,3])\n",
    "print(next(it))\n",
    "print(list(it))\n",
    "\n",
    "print(\"---\")\n",
    "\n",
    "it = iter([1,2,3])\n",
    "print(next(it))\n",
    "print(next(it))\n",
    "print(list(it))"
   ]
  },
  {
   "cell_type": "markdown",
   "metadata": {},
   "source": [
    "# 9.6 生成器"
   ]
  },
  {
   "cell_type": "markdown",
   "metadata": {},
   "source": [
    "包含yield语句的函数都被称为生成器。这可不仅仅是 名称上的差别，生成器的行为与普通函数截然不同。差别在于，生成器不是使用return返回一个值，而是可以生成多个值，每次一个。每次使用yield生成一个值后，函数都将冻结，即在此停止执行，等待被重新唤醒。被重新唤醒后，函数将从停止的地方开始继续执行。"
   ]
  },
  {
   "cell_type": "markdown",
   "metadata": {},
   "source": [
    "虽然生成器让你能够编写出非常优雅的代码，但，无论编写什么程序，都完全可以不使用生成器。"
   ]
  },
  {
   "cell_type": "markdown",
   "metadata": {},
   "source": [
    "例：斐波那契数列的不同实现"
   ]
  },
  {
   "cell_type": "markdown",
   "metadata": {},
   "source": [
    "A. 简单输出斐波那契數列前 N 个数"
   ]
  },
  {
   "cell_type": "code",
   "execution_count": 25,
   "metadata": {},
   "outputs": [
    {
     "name": "stdout",
     "output_type": "stream",
     "text": [
      "1 1 2 3 5 "
     ]
    }
   ],
   "source": [
    "def fab(max): \n",
    "    n, a, b = 0, 0, 1 \n",
    "    while n < max: \n",
    "        print(b,end=\" \")\n",
    "        a, b = b, a + b \n",
    "        n = n + 1\n",
    "fab(5)"
   ]
  },
  {
   "cell_type": "markdown",
   "metadata": {},
   "source": [
    "结果没有问题，但有经验的开发者会指出，直接在 fab 函数中用 print 打印数字会导致该函数可复用性较差，因为 fab 函数返回 None，其他函数无法获得该函数生成的数列。\n",
    "\n",
    "要提高 fab 函数的可复用性，最好不要直接打印出数列，而是返回一个 List。以下是 fab 函数改写后的第二个版本："
   ]
  },
  {
   "cell_type": "markdown",
   "metadata": {},
   "source": [
    "B.输出斐波那契数列前 N 个数"
   ]
  },
  {
   "cell_type": "code",
   "execution_count": 27,
   "metadata": {},
   "outputs": [
    {
     "name": "stdout",
     "output_type": "stream",
     "text": [
      "1 1 2 3 5 "
     ]
    }
   ],
   "source": [
    "def fab(max): \n",
    "    n, a, b = 0, 0, 1 \n",
    "    L = [] \n",
    "    while n < max: \n",
    "        L.append(b) \n",
    "        a, b = b, a + b \n",
    "        n = n + 1 \n",
    "    return L\n",
    " \n",
    "for n in fab(5): \n",
    "    print(n,end=\" \")"
   ]
  },
  {
   "cell_type": "markdown",
   "metadata": {},
   "source": [
    "改写后的 fab 函数通过返回 List 能满足复用性的要求，但是更有经验的开发者会指出，该函数在运行中占用的内存会随着参数 max 的增大而增大，如果要控制内存占用，最好不要用 List 来保存中间结果，而是通过 iterable 对象来迭代。"
   ]
  },
  {
   "cell_type": "markdown",
   "metadata": {},
   "source": [
    "C.通过 iterable 对象来迭代"
   ]
  },
  {
   "cell_type": "code",
   "execution_count": 33,
   "metadata": {},
   "outputs": [
    {
     "name": "stdout",
     "output_type": "stream",
     "text": [
      "1 1 2 3 5 "
     ]
    }
   ],
   "source": [
    "class Fab(object): \n",
    " \n",
    "    def __init__(self, max): \n",
    "        self.max = max \n",
    "        self.n, self.a, self.b = 0, 0, 1 \n",
    " \n",
    "    def __iter__(self): \n",
    "        return self \n",
    " \n",
    "    def __next__(self): \n",
    "        if self.n < self.max: \n",
    "            r = self.b \n",
    "            self.a, self.b = self.b, self.a + self.b \n",
    "            self.n = self.n + 1 \n",
    "            return r \n",
    "        raise StopIteration()\n",
    " \n",
    "for n in Fab(5): \n",
    "    print(n,end=\" \")"
   ]
  },
  {
   "cell_type": "markdown",
   "metadata": {},
   "source": [
    "这个版本代码远远没有第一版的 fab 函数来得简洁。如果我们想要保持第一版 fab 函数的简洁性，同时又要获得 iterable 的效果，yield 就派上用场了："
   ]
  },
  {
   "cell_type": "markdown",
   "metadata": {},
   "source": [
    "D.使用 yield 的第四版"
   ]
  },
  {
   "cell_type": "code",
   "execution_count": 36,
   "metadata": {},
   "outputs": [
    {
     "name": "stdout",
     "output_type": "stream",
     "text": [
      "1 1 2 3 5 "
     ]
    }
   ],
   "source": [
    "def fab(max): \n",
    "    n, a, b = 0, 0, 1 \n",
    "    while n < max: \n",
    "        yield b      # 使用 yield\n",
    "        # print b \n",
    "        a, b = b, a + b \n",
    "        n = n + 1\n",
    " \n",
    "for n in fab(5): \n",
    "    print(n,end=\" \")"
   ]
  },
  {
   "cell_type": "code",
   "execution_count": null,
   "metadata": {},
   "outputs": [],
   "source": []
  }
 ],
 "metadata": {
  "kernelspec": {
   "display_name": "Python 3",
   "language": "python",
   "name": "python3"
  },
  "language_info": {
   "codemirror_mode": {
    "name": "ipython",
    "version": 3
   },
   "file_extension": ".py",
   "mimetype": "text/x-python",
   "name": "python",
   "nbconvert_exporter": "python",
   "pygments_lexer": "ipython3",
   "version": "3.7.6"
  }
 },
 "nbformat": 4,
 "nbformat_minor": 4
}
