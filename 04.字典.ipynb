{
 "cells": [
  {
   "cell_type": "markdown",
   "metadata": {},
   "source": [
    "字典是Python中唯一 的内置映射类型，其中的值不按顺序排列，而是存储在键下。键可能是数、字符串或元组。\n"
   ]
  },
  {
   "cell_type": "markdown",
   "metadata": {},
   "source": [
    "# 4.1 用途"
   ]
  },
  {
   "cell_type": "markdown",
   "metadata": {},
   "source": [
    "字典的名称指出了这种数据结构的用途。普通图书适合按从头到尾的顺序阅读，如果你愿意， 可快速翻到任何一页，这有点像Python中的列表。字典(日常生活中的字典和Python字典)旨在 让你能够轻松地找到特定的单词(键)，以获悉其定义(值)。"
   ]
  },
  {
   "cell_type": "markdown",
   "metadata": {},
   "source": [
    "# 4.2 创建和使用"
   ]
  },
  {
   "cell_type": "code",
   "execution_count": 2,
   "metadata": {},
   "outputs": [
    {
     "name": "stdout",
     "output_type": "stream",
     "text": [
      "<class 'dict'>\n",
      "3258\n"
     ]
    }
   ],
   "source": [
    "phonebook = {'Alice': '2341', 'Beth': '9102', 'Cecil': '3258'}\n",
    "print(type(phonebook))\n",
    "print(phonebook['Cecil'])"
   ]
  },
  {
   "cell_type": "markdown",
   "metadata": {},
   "source": [
    "### 4.2.1 dict 函数"
   ]
  },
  {
   "cell_type": "markdown",
   "metadata": {},
   "source": [
    "从其他映射(如其他字典)或键值对序列创建字典"
   ]
  },
  {
   "cell_type": "code",
   "execution_count": 5,
   "metadata": {},
   "outputs": [
    {
     "name": "stdout",
     "output_type": "stream",
     "text": [
      "<class 'dict'>\n",
      "{'name': 'Gumby', 'age': 42}\n",
      "Gumby\n"
     ]
    }
   ],
   "source": [
    "items = [('name', 'Gumby'), ('age', 42)]\n",
    "d = dict(items)\n",
    "print(type(d))\n",
    "print(d)\n",
    "print(d['name'])"
   ]
  },
  {
   "cell_type": "markdown",
   "metadata": {},
   "source": [
    "使用关键字实参来调用dict函数"
   ]
  },
  {
   "cell_type": "code",
   "execution_count": 6,
   "metadata": {},
   "outputs": [
    {
     "name": "stdout",
     "output_type": "stream",
     "text": [
      "<class 'dict'>\n",
      "{'name': 'Gumby', 'age': 42}\n",
      "Gumby\n"
     ]
    }
   ],
   "source": [
    "d = dict(name='Gumby', age=42)\n",
    "print(type(d))\n",
    "print(d)\n",
    "print(d['name'])"
   ]
  },
  {
   "cell_type": "markdown",
   "metadata": {},
   "source": [
    "### 4.2.2 基本操作"
   ]
  },
  {
   "cell_type": "markdown",
   "metadata": {},
   "source": [
    "len(d)返回字典d包含的项(键-值对)个数\n",
    "\n",
    "d[k]返回与键k相关联的值\n",
    "\n",
    "d[k] = v将值v关联到键k\n",
    "\n",
    "del d[k]删除键为k的项\n",
    "\n",
    "k in d检查字典d是否包含键为k的项\n",
    "\n"
   ]
  },
  {
   "cell_type": "markdown",
   "metadata": {},
   "source": [
    "注：字典和列表的几个不同之处：\n",
    "\n",
    "1.键的类型:字典中的键可以是整数，但并非必须是整数。字典中的键可以是任何不可变 的类型，如浮点数(实数)、字符串或元组。\n",
    "\n",
    "2.自动添加:即便是字典中原本没有的键，也可以给它赋值，这将在字典中创建一个新项。 然而，如果不使用append或其他类似的方法，就不能给列表中没有的元素赋值。\n",
    "\n",
    "3.成员资格:表达式k in d(其中d是一个字典)查找的是键而不是值，而表达式v in l(其 中l是一个列表)查找的是值而不是索引。"
   ]
  },
  {
   "cell_type": "markdown",
   "metadata": {},
   "source": [
    "### 4.2.3 将字符串格式设置功能用于字典"
   ]
  },
  {
   "cell_type": "markdown",
   "metadata": {},
   "source": [
    "使用format_map指出通过一个映射提供替换信息"
   ]
  },
  {
   "cell_type": "code",
   "execution_count": 8,
   "metadata": {},
   "outputs": [
    {
     "name": "stdout",
     "output_type": "stream",
     "text": [
      "Cecil's phone number is 3258.\n"
     ]
    }
   ],
   "source": [
    "phonebook = {'Alice': '2341', 'Beth': '9102', 'Cecil': '3258'}\n",
    "print(\"Cecil's phone number is {Cecil}.\".format_map(phonebook))"
   ]
  },
  {
   "cell_type": "markdown",
   "metadata": {},
   "source": [
    "# 4.3 字典的方法"
   ]
  },
  {
   "cell_type": "markdown",
   "metadata": {},
   "source": [
    "### 4.3.1 clear"
   ]
  },
  {
   "cell_type": "markdown",
   "metadata": {},
   "source": [
    "删除所有的字典项，原地执行"
   ]
  },
  {
   "cell_type": "markdown",
   "metadata": {},
   "source": [
    "### 4.3.2 copy"
   ]
  },
  {
   "cell_type": "markdown",
   "metadata": {},
   "source": [
    "1.浅复制\n",
    "\n",
    "返回一个新字典，其包含的键值对与原来的字典相同(这个方法执行的是浅复制， 因为值本身是原件，而非副本)。"
   ]
  },
  {
   "cell_type": "markdown",
   "metadata": {},
   "source": [
    "【替换】副本中的值时，原件不受影响"
   ]
  },
  {
   "cell_type": "code",
   "execution_count": 14,
   "metadata": {},
   "outputs": [
    {
     "name": "stdout",
     "output_type": "stream",
     "text": [
      "{'username': 'mlh', 'machines': ['foo', 'bar', 'baz']}\n",
      "{'username': 'admin', 'machines': ['foo', 'bar', 'baz']}\n"
     ]
    }
   ],
   "source": [
    "x = {'username': 'admin', 'machines': ['foo', 'bar', 'baz']}\n",
    "y = x.copy()\n",
    "y['username'] = 'mlh'\n",
    "print(y)\n",
    "print(x)"
   ]
  },
  {
   "cell_type": "markdown",
   "metadata": {},
   "source": [
    "【原地修改】副本中的值，原件也将发生变化"
   ]
  },
  {
   "cell_type": "code",
   "execution_count": 15,
   "metadata": {},
   "outputs": [
    {
     "name": "stdout",
     "output_type": "stream",
     "text": [
      "{'username': 'admin', 'machines': ['foo', 'baz']}\n",
      "{'username': 'admin', 'machines': ['foo', 'baz']}\n"
     ]
    }
   ],
   "source": [
    "x = {'username': 'admin', 'machines': ['foo', 'bar', 'baz']}\n",
    "y = x.copy()\n",
    "y['machines'].remove('bar')\n",
    "print(y)\n",
    "print(x)"
   ]
  },
  {
   "cell_type": "markdown",
   "metadata": {},
   "source": [
    "2.深复制\n",
    "\n",
    "同时复制值及其包含的所有值"
   ]
  },
  {
   "cell_type": "code",
   "execution_count": 17,
   "metadata": {},
   "outputs": [
    {
     "name": "stdout",
     "output_type": "stream",
     "text": [
      "{'names': ['Alfred', 'Bertrand', 'Clive']}\n",
      "{'names': ['Alfred', 'Bertrand']}\n"
     ]
    }
   ],
   "source": [
    "from copy import deepcopy\n",
    "d = {}\n",
    "d['names'] = ['Alfred', 'Bertrand']\n",
    "c = d.copy()\n",
    "dc = deepcopy(d)\n",
    "d['names'].append('Clive')\n",
    "print(c)\n",
    "print(dc)"
   ]
  },
  {
   "cell_type": "markdown",
   "metadata": {},
   "source": [
    "### 4.3.3 fromkeys"
   ]
  },
  {
   "cell_type": "markdown",
   "metadata": {},
   "source": [
    "创建一个新字典，其中包含指定的键，且每个键对应的值都是None"
   ]
  },
  {
   "cell_type": "code",
   "execution_count": 22,
   "metadata": {},
   "outputs": [
    {
     "name": "stdout",
     "output_type": "stream",
     "text": [
      "{'name': None, 'age': None}\n"
     ]
    }
   ],
   "source": [
    "a = {}\n",
    "print(a.fromkeys(['name', 'age']))"
   ]
  },
  {
   "cell_type": "code",
   "execution_count": 23,
   "metadata": {},
   "outputs": [
    {
     "name": "stdout",
     "output_type": "stream",
     "text": [
      "{'name': None, 'age': None}\n"
     ]
    }
   ],
   "source": [
    "print(dict.fromkeys(['name', 'age']))"
   ]
  },
  {
   "cell_type": "code",
   "execution_count": 28,
   "metadata": {},
   "outputs": [
    {
     "name": "stdout",
     "output_type": "stream",
     "text": [
      "{'name': 'default', 'age': 'default'}\n"
     ]
    }
   ],
   "source": [
    "print(dict.fromkeys(['name', 'age'],'default'))"
   ]
  },
  {
   "cell_type": "markdown",
   "metadata": {},
   "source": [
    "### 4.3.4 get"
   ]
  },
  {
   "cell_type": "code",
   "execution_count": 33,
   "metadata": {},
   "outputs": [
    {
     "name": "stdout",
     "output_type": "stream",
     "text": [
      "None\n",
      "default\n"
     ]
    }
   ],
   "source": [
    "d = {}\n",
    "\n",
    "# 1.用键名取值\n",
    "# print(d['name']) # 会报错\n",
    "\n",
    "# KeyError   Traceback (most recent call last)\n",
    "# <ipython-input-29-c92ea8278836> in <module>\n",
    "#       1 d = {}\n",
    "# ----> 2 print(d['name'])\n",
    "\n",
    "# KeyError: 'name'\n",
    "\n",
    "# 2.用get()取值\n",
    "print(d.get('name')) # 不会报错\n",
    "# 3.指定默认值get()取值\n",
    "print(d.get('name','default'))"
   ]
  },
  {
   "cell_type": "markdown",
   "metadata": {},
   "source": [
    "### 4.3.5 items"
   ]
  },
  {
   "cell_type": "markdown",
   "metadata": {},
   "source": [
    "返回一个包含所有字典项的数据结构，返回值属于一种名为【字典视图】的特殊类型。字典视图可用于迭代"
   ]
  },
  {
   "cell_type": "code",
   "execution_count": 36,
   "metadata": {},
   "outputs": [
    {
     "name": "stdout",
     "output_type": "stream",
     "text": [
      "dict_items([('title', 'Python Web Site'), ('url', 'http://www.python.org'), ('spam', 0)])\n"
     ]
    }
   ],
   "source": [
    "d = {'title': 'Python Web Site', 'url': 'http://www.python.org', 'spam': 0}\n",
    "it = d.items()\n",
    "print(it)"
   ]
  },
  {
   "cell_type": "markdown",
   "metadata": {},
   "source": [
    "可以对其使用len和in"
   ]
  },
  {
   "cell_type": "code",
   "execution_count": 37,
   "metadata": {},
   "outputs": [
    {
     "name": "stdout",
     "output_type": "stream",
     "text": [
      "3\n",
      "True\n"
     ]
    }
   ],
   "source": [
    "print(len(it))\n",
    "print(('spam',0) in it)"
   ]
  },
  {
   "cell_type": "markdown",
   "metadata": {},
   "source": [
    "视图的一个优点是不复制，它们始终是底层字典的反映，即便你修改了底层字典亦如此。"
   ]
  },
  {
   "cell_type": "code",
   "execution_count": 38,
   "metadata": {},
   "outputs": [
    {
     "name": "stdout",
     "output_type": "stream",
     "text": [
      "False\n",
      "True\n"
     ]
    }
   ],
   "source": [
    "d['spam'] = 1\n",
    "print(('spam', 0) in it)\n",
    "d['spam'] = 0\n",
    "print(('spam', 0) in it)"
   ]
  },
  {
   "cell_type": "markdown",
   "metadata": {},
   "source": [
    "### 4.3.6 keys"
   ]
  },
  {
   "cell_type": "markdown",
   "metadata": {},
   "source": [
    "返回一个字典视图，其中包含指定字典中的键"
   ]
  },
  {
   "cell_type": "markdown",
   "metadata": {},
   "source": [
    "### 4.3.7 pop"
   ]
  },
  {
   "cell_type": "markdown",
   "metadata": {},
   "source": [
    "用于获取与指定键相关联的值，并将该键值对从字典中删除"
   ]
  },
  {
   "cell_type": "code",
   "execution_count": 39,
   "metadata": {},
   "outputs": [
    {
     "name": "stdout",
     "output_type": "stream",
     "text": [
      "1\n",
      "{'y': 2}\n"
     ]
    }
   ],
   "source": [
    "d = {'x': 1, 'y': 2}\n",
    "print(d.pop('x'))\n",
    "print(d)"
   ]
  },
  {
   "cell_type": "markdown",
   "metadata": {},
   "source": [
    "### 4.3.8 popitem"
   ]
  },
  {
   "cell_type": "markdown",
   "metadata": {},
   "source": [
    "随机弹出一个字典项，因为字典项的顺序不确定，没有“最后一个元素”的概念。"
   ]
  },
  {
   "cell_type": "code",
   "execution_count": 40,
   "metadata": {},
   "outputs": [
    {
     "name": "stdout",
     "output_type": "stream",
     "text": [
      "('title', 'Python Web Site')\n",
      "{'url': 'http://www.python.org', 'spam': 0}\n"
     ]
    }
   ],
   "source": [
    "d = {'url': 'http://www.python.org', 'spam': 0, 'title': 'Python Web Site'}\n",
    "print(d.popitem())\n",
    "print(d)"
   ]
  },
  {
   "cell_type": "markdown",
   "metadata": {},
   "source": [
    "有序字典 collections.OrderedDict"
   ]
  },
  {
   "cell_type": "code",
   "execution_count": 47,
   "metadata": {},
   "outputs": [
    {
     "name": "stdout",
     "output_type": "stream",
     "text": [
      "OrderedDict([('A', 101), ('B', 202), ('C', 303)])\n",
      "('C', 303)\n",
      "OrderedDict([('A', 101), ('B', 202)])\n",
      "('B', 202)\n",
      "OrderedDict([('A', 101)])\n",
      "('A', 101)\n",
      "OrderedDict()\n"
     ]
    }
   ],
   "source": [
    "from collections import OrderedDict\n",
    "od = OrderedDict()\n",
    "od['A'] = 101\n",
    "od['B'] = 202\n",
    "od['C'] = 303\n",
    "print(od)\n",
    "print(od.popitem())\n",
    "print(od)\n",
    "print(od.popitem())\n",
    "print(od)\n",
    "print(od.popitem())\n",
    "print(od)"
   ]
  },
  {
   "cell_type": "markdown",
   "metadata": {},
   "source": [
    "### 4.3.9 setdefault"
   ]
  },
  {
   "cell_type": "markdown",
   "metadata": {},
   "source": [
    "有点像get，因为它也获取与指定键相关联的值，但除此之外，setdefault 还在字典不包含指定的键时，在字典中添加指定的键值对。指定的键不存在时，setdefault返回指定的值并相应地更新字典。如果指定的键 存在，就返回其值，并保持字典不变。与get一样，值是可选的;如果没有指定，默认为None。"
   ]
  },
  {
   "cell_type": "code",
   "execution_count": 51,
   "metadata": {},
   "outputs": [
    {
     "name": "stdout",
     "output_type": "stream",
     "text": [
      "N/A\n",
      "{'name': 'N/A'}\n",
      "Gumby\n",
      "{'name': 'Gumby'}\n"
     ]
    }
   ],
   "source": [
    "d = {}\n",
    "print(d.setdefault('name', 'N/A'))\n",
    "print(d)\n",
    "d['name'] = 'Gumby'\n",
    "print(d.setdefault('name', 'N/A'))\n",
    "print(d)"
   ]
  },
  {
   "cell_type": "markdown",
   "metadata": {},
   "source": [
    "用于整个字典的全局默认值，collections.defaultdict"
   ]
  },
  {
   "cell_type": "markdown",
   "metadata": {},
   "source": [
    "### 4.3.10 update"
   ]
  },
  {
   "cell_type": "markdown",
   "metadata": {},
   "source": [
    "使用一个字典中的项来更新另一个字典"
   ]
  },
  {
   "cell_type": "code",
   "execution_count": 53,
   "metadata": {},
   "outputs": [
    {
     "name": "stdout",
     "output_type": "stream",
     "text": [
      "{'title': 'python is nb', 'url': 'http://www.python.org'}\n",
      "{'title': 'python is not nb', 'url': 'http://www.python.org'}\n"
     ]
    }
   ],
   "source": [
    "d = {\n",
    "        'title':'python is nb',\n",
    "        'url':'http://www.python.org'\n",
    "    }\n",
    "x = {'title': 'python is not nb'}\n",
    "print(d)\n",
    "d.update(x)\n",
    "print(d)"
   ]
  },
  {
   "cell_type": "markdown",
   "metadata": {},
   "source": [
    "### 4.3.11 values"
   ]
  },
  {
   "cell_type": "markdown",
   "metadata": {},
   "source": [
    "返回一个由字典中的值组成的字典视图。不同于方法keys，方法values返回的视图可能包含重复的值"
   ]
  },
  {
   "cell_type": "code",
   "execution_count": 55,
   "metadata": {},
   "outputs": [
    {
     "name": "stdout",
     "output_type": "stream",
     "text": [
      "dict_keys([1, 2, 3, 4, 5])\n",
      "dict_values([1, 2, 3, 1, 1])\n"
     ]
    }
   ],
   "source": [
    "d = {}\n",
    "d[1] = 1\n",
    "d[2] = 2\n",
    "d[3] = 3\n",
    "d[4] = 1\n",
    "d[5] = 1\n",
    "print(d.keys())\n",
    "print(d.values())"
   ]
  },
  {
   "cell_type": "code",
   "execution_count": null,
   "metadata": {},
   "outputs": [],
   "source": []
  }
 ],
 "metadata": {
  "kernelspec": {
   "display_name": "Python 3",
   "language": "python",
   "name": "python3"
  },
  "language_info": {
   "codemirror_mode": {
    "name": "ipython",
    "version": 3
   },
   "file_extension": ".py",
   "mimetype": "text/x-python",
   "name": "python",
   "nbconvert_exporter": "python",
   "pygments_lexer": "ipython3",
   "version": "3.7.6"
  }
 },
 "nbformat": 4,
 "nbformat_minor": 4
}
